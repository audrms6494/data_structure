{
 "cells": [
  {
   "cell_type": "markdown",
   "metadata": {},
   "source": [
    "> ### EEE2020: Data Structures & Algorithms\n",
    "\n",
    "# Assignment \\# III: Recursion & Dynamic Programming"
   ]
  },
  {
   "cell_type": "markdown",
   "metadata": {},
   "source": [
    "<div style=\"text-align: right\"> **Due date: April 23, 2021.** </div> \n",
    "<div style=\"text-align: right\"> **Please upload your file @ LearnUs by 7 PM.** </div> \n",
    "<br>\n",
    "<div style=\"text-align: right\"> Daesung Jeon(전대성): <a href=\"mailto:ds.jeon@yonsei.ac.kr\">ds.jeon@yonsei.ac.kr</a> \n",
    "<div style=\"text-align: right\"> Hyekang Park(박혜강): <a href=\"mailto:hyekang.park@yonsei.ac.kr\">hyekang.park@yonsei.ac.kr</a> </div>\n",
    "</div>"
   ]
  },
  {
   "cell_type": "markdown",
   "metadata": {},
   "source": [
    "-------------------------------"
   ]
  },
  {
   "cell_type": "markdown",
   "metadata": {},
   "source": [
    "\n",
    "### *Assignment Instructions:*\n",
    "1. Write a program implementing a particular algorithm to solve a given problem.\n",
    "2. You can use both Korean and Engligh for your report.\n",
    "3. **Analyze the algorithm theoretically and empirically, and write discussion.** \n",
    "4. **Report your results.**  \n",
    "    - You must do assignments and labs yourself. \n",
    "    - <span style=\"color:red\">**Do not copy any part of your friends’ code.**</span>\n",
    "    - Otherwise, you will get a F grade."
   ]
  },
  {
   "cell_type": "markdown",
   "metadata": {},
   "source": [
    "-----------------"
   ]
  },
  {
   "cell_type": "markdown",
   "metadata": {},
   "source": [
    "<h2><span style=\"color:blue\">[Insert your ID HERE] [Insert your name HERE]</span> </h2>"
   ]
  },
  {
   "cell_type": "code",
   "execution_count": 1,
   "metadata": {},
   "outputs": [
    {
     "name": "stdout",
     "output_type": "stream",
     "text": [
      "This code is written at 2021-04-17 18:03:35.931852\n"
     ]
    }
   ],
   "source": [
    "import datetime\n",
    "print(\"This code is written at \" + str(datetime.datetime.now()))"
   ]
  },
  {
   "cell_type": "code",
   "execution_count": 2,
   "metadata": {},
   "outputs": [],
   "source": [
    "%load_ext autoreload\n",
    "%autoreload 2"
   ]
  },
  {
   "cell_type": "markdown",
   "metadata": {},
   "source": [
    "-------------------------------"
   ]
  },
  {
   "cell_type": "markdown",
   "metadata": {},
   "source": [
    "### PROBLEM I - Recursion and Dynamic programming (1) (20 POINTS)"
   ]
  },
  {
   "cell_type": "markdown",
   "metadata": {},
   "source": [
    "Y고등학교에서는 수업 시작 전 전원이 꺼진 상태의 휴대폰을 수거하고 방과후에 돌려준다. Y고등학교 3학년 8반은 $n$명의 학생으로 구성되어 있다. $n$명의 학생들이 모두 같은 휴대폰을 사용하기 때문에 **전원이 꺼진 상태에서는 휴대폰의 주인을 알 수 없다**. 방과후 Y고등학교 3학년 8반 학생들이 휴대폰을 찾아갈 때 **어느 누구도** 본인의 휴대폰을 가져가지 **않을** 경우의 수를 구하시오."
   ]
  },
  {
   "cell_type": "markdown",
   "metadata": {},
   "source": [
    "### I.1 - Recurrence relation (5점)"
   ]
  },
  {
   "cell_type": "markdown",
   "metadata": {},
   "source": [
    "**PROBLEM I**를 해결하기 위한 점화식을 작성하고 설명하시오."
   ]
  },
  {
   "cell_type": "markdown",
   "metadata": {},
   "source": [
    "### Describe and Discuss your answer"
   ]
  },
  {
   "cell_type": "markdown",
   "metadata": {},
   "source": [
    "n명의 학생들이 휴대폰을 찾아갈 때 어느 누구도 본인의 휴대폰을 가져가지 않을 경우의 수를 a_n이라고 하자. n명중 학생1과 그 학생1의 핸드폰을 받게 되는 학생을 학생2라고 하자. 먼저 학생1이 학생2의 핸드폰을 받게 될 경우의 수는 나머지 (n-2)명이 어느 누구도 본인의 휴대폰을 가져가지 않을 경우의 수이므로 a_n-2가 된다. 또한 학생1이 학생2의 휴대폰을 받지 않을 경우 학생 2는 학생1의 휴대폰을 받은 상태에서 학생2의 휴대폰을 학생1의 휴대폰으로 취급할 수 있다. (학생1이 학생2의 휴대폰을 받으면 안된다라는 조건) 따라서 이는 학생2를 제외한 n-1명이 어느 누구도 본인의 휴대폰을 가져가지 않을 경우의 수이므로 a_n-1이 된다. 이 때 학생 2가 될 수 있는 경우의 수는 학생1을 제외한 n-1이므로 점화식은 a_n=(n-1)(a_n-1 + a_n-2)가 된다."
   ]
  },
  {
   "cell_type": "markdown",
   "metadata": {},
   "source": [
    "-------------------------------"
   ]
  },
  {
   "cell_type": "markdown",
   "metadata": {},
   "source": [
    "### I.2 - Recursion (5점)"
   ]
  },
  {
   "cell_type": "markdown",
   "metadata": {},
   "source": [
    "**Recursion**을 이용하여 문제를 해결하고 분석하시오.  \n",
    "\n",
    "> ```assignment3.py```의 ```solve_recursive_p1```함수를 완성하시오."
   ]
  },
  {
   "cell_type": "code",
   "execution_count": 1,
   "metadata": {},
   "outputs": [],
   "source": [
    "from assignment3 import solve_recursive_p1"
   ]
  },
  {
   "cell_type": "code",
   "execution_count": 2,
   "metadata": {},
   "outputs": [
    {
     "data": {
      "text/plain": [
       "1854"
      ]
     },
     "execution_count": 2,
     "metadata": {},
     "output_type": "execute_result"
    }
   ],
   "source": [
    "solve_recursive_p1(7)"
   ]
  },
  {
   "cell_type": "markdown",
   "metadata": {},
   "source": [
    "### Describe and Discuss your answer"
   ]
  },
  {
   "cell_type": "markdown",
   "metadata": {},
   "source": [
    "점화식의 base 두개인 a_0과 a_1의 값을 정의해준다. a_0은 사람이 없으니 자기 핸드폰을 받지 않는 경우의 수인 1이고 a_1은 한 사람이 무조건 자신의 휴대폰을 받으므로 0이다. 그 다음 점화식 a_n=(n-1)(a_n-1 + a_n-2)을 이용하여 recursion 함수를 만들어 주었다."
   ]
  },
  {
   "cell_type": "markdown",
   "metadata": {},
   "source": [
    "-------------------------------"
   ]
  },
  {
   "cell_type": "markdown",
   "metadata": {},
   "source": [
    "### I.3 - Dynamic programming (5점)"
   ]
  },
  {
   "cell_type": "markdown",
   "metadata": {},
   "source": [
    "**Dynamic programming**을 이용하여 문제를 해결하고 분석하시오.  \n",
    "\n",
    "> ```assignment3.py```의 ```solve_DP_p1```함수를 완성하시오."
   ]
  },
  {
   "cell_type": "code",
   "execution_count": 3,
   "metadata": {},
   "outputs": [],
   "source": [
    "from assignment3 import solve_DP_p1"
   ]
  },
  {
   "cell_type": "code",
   "execution_count": 4,
   "metadata": {},
   "outputs": [
    {
     "data": {
      "text/plain": [
       "1854"
      ]
     },
     "execution_count": 4,
     "metadata": {},
     "output_type": "execute_result"
    }
   ],
   "source": [
    "solve_DP_p1(7)"
   ]
  },
  {
   "cell_type": "markdown",
   "metadata": {},
   "source": [
    "### Describe and Discuss your answer"
   ]
  },
  {
   "cell_type": "markdown",
   "metadata": {},
   "source": [
    "recursion 때와 동일하게 base 두개인 a_0과 a_1의 값을 정의해주었다. 그 뒤 num이 2 이상일 때 recursion을 이용하지 않고 만들어 둔 dp list에서 indexing 하는 과정을 통해 N의 값을 구하였다."
   ]
  },
  {
   "cell_type": "markdown",
   "metadata": {},
   "source": [
    "-------------------------------"
   ]
  },
  {
   "cell_type": "markdown",
   "metadata": {},
   "source": [
    "### I.4 - Recursion vs. Dynamic programming (5점)"
   ]
  },
  {
   "cell_type": "markdown",
   "metadata": {},
   "source": [
    "Input $n$이 증가함에 따라 **PROBLEM I.2-3**에서 작성한 **함수 실행 시 소요 시간에 대한 그래프를 그리고 결과에 대해 분석**하시오.\n",
    "> - ```assignment3.py```의 ```get_time_history_p1```함수를 완성하시오.\n",
    "> - $x$축은 $n$, $y$축은 함수 동작 시간(초)으로 한다.\n",
    "> - $n$의 범위는 그래프의 경향성이 보이도록 임의로 설정한다."
   ]
  },
  {
   "cell_type": "code",
   "execution_count": 5,
   "metadata": {},
   "outputs": [],
   "source": [
    "import matplotlib.pyplot as plt\n",
    "from assignment3 import get_time_history_p1"
   ]
  },
  {
   "cell_type": "code",
   "execution_count": 6,
   "metadata": {},
   "outputs": [
    {
     "data": {
      "image/png": "[encoded data removed]",
      "text/plain": [
       "<Figure size 720x720 with 1 Axes>"
      ]
     },
     "metadata": {
      "needs_background": "light"
     },
     "output_type": "display_data"
    }
   ],
   "source": [
    "time_history_recursive, time_history_DP = get_time_history_p1()\n",
    "plt.figure(figsize = (10, 10))\n",
    "plt.plot(time_history_recursive, label = 'recursion')\n",
    "plt.plot(time_history_DP, label = 'dynamic programming')\n",
    "plt.xlabel('$n$', fontsize=10)\n",
    "plt.ylabel('elapsed time', fontsize=10)\n",
    "plt.legend()\n",
    "plt.show()"
   ]
  },
  {
   "cell_type": "markdown",
   "metadata": {},
   "source": [
    "### Describe and Discuss your answer"
   ]
  },
  {
   "cell_type": "markdown",
   "metadata": {},
   "source": [
    "Recursion 함수를 보면 자기 자신의 함수를 2번이나 불러오는 exponential 즉 O(2^n) 임을 알 수 있다. 반면에 dp 함수에서는 미리 들어가 있는 dp list의 값을 불러오는 것이기 때문에 O(n)임을 알 수 있다. 실제로 time함수를 사용해 시간을 측정해본 결과 recursion 함수는 exponential 형태를 띄고 dp는 linear한 1차함수 형태를 띄는 것을 볼 수 있다. "
   ]
  },
  {
   "cell_type": "markdown",
   "metadata": {},
   "source": [
    "-------------------------------"
   ]
  },
  {
   "cell_type": "markdown",
   "metadata": {},
   "source": [
    "### PROBLEM II - Recursion and Dynamic programming (2) (40 POINTS)"
   ]
  },
  {
   "cell_type": "markdown",
   "metadata": {},
   "source": [
    "<img src = \"http://drive.google.com/uc?export=view&id=1v9CP4MMNnUKQetwrtKHxR8wjtSp1Ump8\" alt=\"add_attribute\" width=\"300\">"
   ]
  },
  {
   "cell_type": "markdown",
   "metadata": {},
   "source": [
    "철수는 학교에서 강의를 수강한 후, 서비스 센터에서 휴대폰을 수리하고 집으로 가려고 한다. 그림과 같이 학교, 서비스 센터, 집의 위치는 행과 열을 나타내는 좌표로 주어진다. 학교, 서비스 센터, 집의 좌표는 각각 $(1, 1)$, $(k_x, k_y)$, $(n, m)$이다. 철수가 학교에서 서비스 센터를 경유하여 집으로 가는 최단 경로의 개수를 구하시오. "
   ]
  },
  {
   "cell_type": "markdown",
   "metadata": {},
   "source": [
    "### II.1 - Recurrence relation (5점)"
   ]
  },
  {
   "cell_type": "markdown",
   "metadata": {},
   "source": [
    "학교의 위치가 $(1, 1)$, 집의 위치가 $(n, m)$이다. **서비스센터를 경유하지 않을 때**, 학교에서 집으로 가는 최단 경로의 수를 구하기 위한 점화식을 작성하시오."
   ]
  },
  {
   "cell_type": "markdown",
   "metadata": {},
   "source": [
    "집의 위치가 (n,m)일 때 집에 도착하기 직전의 가능한 위치는 집의 위치의 바로 위나 바로 왼쪽인 (n-1,m) 이나 (n,m-1)이다. 또한 n 이나 m 이 1일 때에는 갈 수 있는 최단거리의 경우의수 가 1이다. 즉 n==1 or m==1일 때에는 a_n_m = 1이고 나머지 경우에는 a_n_m = a_n-1_m + a_n_m-1로 볼 수 있다."
   ]
  },
  {
   "cell_type": "markdown",
   "metadata": {},
   "source": [
    "-------------------------------"
   ]
  },
  {
   "cell_type": "markdown",
   "metadata": {},
   "source": [
    "### II.2 - Recursion (25점)"
   ]
  },
  {
   "cell_type": "markdown",
   "metadata": {},
   "source": [
    "**서비스 센터를 경유할 때**, 학교에서 집으로 가는 최단 경로의 개수를 **Recursion**을 이용하여 구하고 이를 분석하시오.\n",
    "\n",
    "> ```assignment3.py```의 ```search_path_recursion```함수와 ```solve_p2_recursion```함수를 완성하시오."
   ]
  },
  {
   "cell_type": "code",
   "execution_count": 7,
   "metadata": {},
   "outputs": [],
   "source": [
    "from assignment3 import solve_p2_recursion"
   ]
  },
  {
   "cell_type": "code",
   "execution_count": 8,
   "metadata": {},
   "outputs": [
    {
     "name": "stdout",
     "output_type": "stream",
     "text": [
      "9\n"
     ]
    }
   ],
   "source": [
    "print(solve_p2_recursion(3, 5, (2, 3)))"
   ]
  },
  {
   "cell_type": "markdown",
   "metadata": {},
   "source": [
    "### Describe and Discuss your answer"
   ]
  },
  {
   "cell_type": "markdown",
   "metadata": {},
   "source": [
    "위에서 정의한 점화식을 바탕으로 serach_path_recursion 함수를 완성하였다. 그 뒤 서비스 센터를 경유한다는 조건을 추가하여 입력받은 서비스센터의 좌표를 토대로 서비스센터까지의 최단거리 + 서비스센터에서 집까지의 최단거리를 return하였다."
   ]
  },
  {
   "cell_type": "markdown",
   "metadata": {},
   "source": [
    "-------------------------------"
   ]
  },
  {
   "cell_type": "markdown",
   "metadata": {},
   "source": [
    "### II.3 - Dynamic programming (10점)"
   ]
  },
  {
   "cell_type": "markdown",
   "metadata": {},
   "source": [
    "**서비스 센터를 경유할 때**, 학교에서 집으로 가는 최단 경로의 개수를 **Dynamic programming**을 이용하여 구하시오. Recursion을 사용한 함수와 Dynamic programming을 사용한 함수의 실행 시간에 차이가 있다면 그 **이유**에 대해 분석하시오.\n",
    "\n",
    "> ```assignment3.py```의 ```search_path_DP```함수와 ```solve_p2_DP```함수를 완성하시오."
   ]
  },
  {
   "cell_type": "code",
   "execution_count": 9,
   "metadata": {},
   "outputs": [],
   "source": [
    "from assignment3 import solve_p2_DP"
   ]
  },
  {
   "cell_type": "code",
   "execution_count": 10,
   "metadata": {
    "scrolled": true
   },
   "outputs": [
    {
     "name": "stdout",
     "output_type": "stream",
     "text": [
      "9\n"
     ]
    }
   ],
   "source": [
    "print(solve_p2_DP(3, 5, (2, 3)))"
   ]
  },
  {
   "cell_type": "code",
   "execution_count": 11,
   "metadata": {},
   "outputs": [
    {
     "name": "stdout",
     "output_type": "stream",
     "text": [
      "128700\n",
      "128700\n",
      "0.0029916763305664062\n",
      "0.0\n"
     ]
    }
   ],
   "source": [
    "import time\n",
    "\n",
    "t1 = time.time()\n",
    "print(solve_p2_recursion(12, 11, (4, 3)))\n",
    "t2 = time.time()\n",
    "print(solve_p2_DP(12, 11, (4, 3)))\n",
    "t3 = time.time()\n",
    "print(t2 - t1)\n",
    "print(t3 - t2)"
   ]
  },
  {
   "cell_type": "markdown",
   "metadata": {},
   "source": [
    "### Describe and Discuss your answer"
   ]
  },
  {
   "cell_type": "markdown",
   "metadata": {},
   "source": [
    "dp list에 x * y 짜리 1차원 배열을 만들어 주었다. 이 때 indexing이 y보다 작을 때 즉 x ==1일 때에는 경우의수 1을 입력해주었다. 마찬가지로 indexing이 y의 배수일 때 즉 y==1일 때에도 경우의 수 1을 입력해주었다. 나머지 indexing에서는 위에서 말한 점화식을 활용하여 dp[num-y] + dp[num-1]을 append해주었다. 마지막으로 dp[xmuly-1]을 return해주었다. 이렇게 search_path_DP를 완성시킨 뒤 solve_p2_recursion과 마찬가지로 서비스 센터까지의 최단거리 + 서비스 센터에서 집까지의 최단거리를 return해주었다. n, m이 12 13 근처만 가도 시간차이가 확연하게 나는 것을 알 수 있다. 이는 recursion의 경우 자기 자신의 함수를 불러내는 과정에서 데이터 값을 저장하지 않고 불필요한 계산을 매우 많은 횟수 반복하게 되는데 dp의 경우 이러한 불필요한 계산을 피하기 위해 값을 저장해놓기 때문에 시간이 매우 많이 절약이 된다."
   ]
  },
  {
   "cell_type": "markdown",
   "metadata": {},
   "source": [
    "-------------------------------"
   ]
  },
  {
   "cell_type": "markdown",
   "metadata": {},
   "source": [
    "### PROBLEM III -  Dynamic programming (40 POINTS)"
   ]
  },
  {
   "cell_type": "markdown",
   "metadata": {},
   "source": [
    "Y대학교 제5공학관은 N개의 연구실이 입구에서부터 일렬로 배치되어 있다. 제5공학관의 입구와 첫 번째 연구실 사이에는 카페가 있다. 이 카페는 커피를 각 연구실로 배달한다.\n",
    "\n",
    "카페에서 커피를 배달할 때, 직원과 배달 로봇을 사용할 수 있다. 직원과 배달 로봇은 충분히 많다.\n",
    "\n",
    "* 배달 로봇의 사용 비용은 **배달 거리에 관계없이 일정**하다. 배달 로봇은 **한 번에 배달할 수 있는 커피 개수의 제한이 없**지만 **카페에서 연구실로만 배달**이 가능하다.\n",
    "\n",
    "\n",
    "* 직원이 배달할 경우 **비용은 배달 거리에 비례하여 증가**한다. 직원은 **한 번에 한 개의 커피만 배달**할 수 있다. 직원은 **연구실에서 연구실로, 카페에서 연구실로 커피를 배달**할 수 있다. 연구실에서 연구실로 배달하는 경우는 다음과 같다.\n",
    "> 40, 50, 60번 연구실에 커피를 배달해야 하는 경우를 생각해보자. 배달 로봇이 50번 연구실로 커피 3개를 배달한다. 이후 두 명의 직원이 50번 연구실에서 40번, 60 번 연구실로 배달할 수 있다.\n",
    "\n",
    "\n",
    "* 각 연구실 간 거리는 1로 정의한다. 즉, 1번 연구실과 2번 연구실의 거리는 **1**, 10번 연구실과 21번 연구실의 거리는 **11**이다.\n",
    "\n",
    "\n",
    "* 카페는 0번 연구실로 생각할 수 있다. 즉, 카페에서 1번 연구실과 거리는 **1**이다.\n",
    "\n",
    "\n",
    "* Example\n",
    "\n",
    "> **Problem description**  \n",
    "배달해야 하는 커피 개수: 5  \n",
    "직원이 배달할 때 거리 1당 비용: 10  \n",
    "배달 로봇을 사용할 때 비용: 500  \n",
    "커피를 주문한 연구실: 10, 25, 40, 50, 25\n",
    "\n",
    "> **Solution**  \n",
    "카페에서 10번, 25번, 40번, 50번, 25번 연구실로 배달해야 하는 5개의 주문이 접수되었다. 직원이 커피를 배달할 때 거리 1당 10만큼의 비용이 필요하다. 따라서 5개의 커피를 모두 직원이 배달한다면 $10 \\times(10+25+40+50+25) = 1500$의 비용이 필요하다. 반면, 직원이 카페에서 10번 연구실로 1개, 배달 로봇이 40번째 연구실로 4개의 커피를 배달한 후 직원이 40번 연구실에서 25번 연구실로 2개, 50번 연구실로 1개 배달한다면 총 $100 + 500 + 2\\times150 + 100 = 1000$의 비용으로 배달할 수 있다.\n",
    "\n",
    "배달할 커피의 개수, 각 커피가 배달될 연구실의 호수, 직원과 배달 로봇의 사용 비용이 주어진다. 모든 커피를 배달할때 사용해야 하는 **총 비용의 최소값**을 구하시오."
   ]
  },
  {
   "cell_type": "markdown",
   "metadata": {},
   "source": [
    "### CONDITIONS\n",
    "\n",
    "1. Y대학교 제5공학관은 1개의 층으로 이루어져 있다.\n",
    "2. 각 연구실은 일정한 간격으로 배치되어 있다."
   ]
  },
  {
   "cell_type": "markdown",
   "metadata": {},
   "source": [
    "### III.1 - 어떤 상황에서 배달 로봇을 사용하는 것이 최적인가? (5점)"
   ]
  },
  {
   "cell_type": "markdown",
   "metadata": {},
   "source": [
    "### Describe and Discuss your answer"
   ]
  },
  {
   "cell_type": "markdown",
   "metadata": {},
   "source": [
    "describe here"
   ]
  },
  {
   "cell_type": "markdown",
   "metadata": {},
   "source": [
    "-------------------------------"
   ]
  },
  {
   "cell_type": "markdown",
   "metadata": {},
   "source": [
    "### III.2 - 배달 로봇이 어떤 위치까지 배달할지 어떻게 결정할 것인가? (10점)"
   ]
  },
  {
   "cell_type": "markdown",
   "metadata": {},
   "source": [
    "점화식을 세울 때, 배달 로봇이 배달하는 경우를 고려해야 한다. 배달 로봇을 사용할 때 최적인 경우를 어떻게 결정할지 변수와 식 혹은 예시를 이용하여 설명할 것."
   ]
  },
  {
   "cell_type": "markdown",
   "metadata": {},
   "source": [
    "### Describe and Discuss your answer"
   ]
  },
  {
   "cell_type": "markdown",
   "metadata": {},
   "source": [
    "describe here"
   ]
  },
  {
   "cell_type": "markdown",
   "metadata": {},
   "source": [
    "-------------------------------"
   ]
  },
  {
   "cell_type": "markdown",
   "metadata": {},
   "source": [
    "### III.3 - Dynamic Programming을 이용하여 코드를 작성하시오. (25점)"
   ]
  },
  {
   "cell_type": "markdown",
   "metadata": {},
   "source": [
    "Dynamic programming을 이용하여 문제를 해결하고, 본인의 코드 및 결과를 분석하시오.\n",
    "\n",
    "> ```assignment3.py```의 ```solve_p3```함수를 완성하시오."
   ]
  },
  {
   "cell_type": "markdown",
   "metadata": {},
   "source": [
    "### NOTE\n",
    "\n",
    "* Worst case에서 $\\mathcal{O}(n^2)$ 이하의 time complexity를 가지도록 할 것. Worst case에서 time complexity가 $\\mathcal{O}(n^2)$ 보다 클 경우 50% 감점."
   ]
  },
  {
   "cell_type": "markdown",
   "metadata": {},
   "source": [
    "### HINT \n",
    "\n",
    "* list를 sorting해야 할 경우 list.sort()를 사용할 수 있다.\n",
    "* Naive한 방법은 Worst case에서 $\\mathcal{O}(n^3)$의 time complexity를 가진다."
   ]
  },
  {
   "cell_type": "code",
   "execution_count": 12,
   "metadata": {},
   "outputs": [],
   "source": [
    "from assignment3 import solve_p3"
   ]
  },
  {
   "cell_type": "code",
   "execution_count": 13,
   "metadata": {},
   "outputs": [
    {
     "name": "stdout",
     "output_type": "stream",
     "text": [
      "[100, 350, 600, 750, 1000]\n",
      "1000\n"
     ]
    }
   ],
   "source": [
    "num_coffee = 5\n",
    "labs = [10, 25, 40, 25, 50]\n",
    "staff = 10\n",
    "robot = 500\n",
    "\n",
    "print(solve_p3(num_coffee, labs, staff, robot))"
   ]
  },
  {
   "cell_type": "markdown",
   "metadata": {},
   "source": [
    "### Describe and Discuss your answer"
   ]
  },
  {
   "cell_type": "markdown",
   "metadata": {},
   "source": [
    "describe here"
   ]
  },
  {
   "cell_type": "markdown",
   "metadata": {},
   "source": [
    "-------------------------------"
   ]
  }
 ],
 "metadata": {
  "anaconda-cloud": {},
  "kernelspec": {
   "display_name": "Python 3",
   "language": "python",
   "name": "python3"
  },
  "language_info": {
   "codemirror_mode": {
    "name": "ipython",
    "version": 3
   },
   "file_extension": ".py",
   "mimetype": "text/x-python",
   "name": "python",
   "nbconvert_exporter": "python",
   "pygments_lexer": "ipython3",
   "version": "3.8.5"
  }
 },
 "nbformat": 4,
 "nbformat_minor": 1
}
