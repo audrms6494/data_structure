{
 "cells": [
  {
   "cell_type": "markdown",
   "metadata": {},
   "source": [
    "> ### EEE2020: Data Structures & Algorithms\n",
    "\n",
    "# Assignment \\# V: Trees and Tree Algorithms"
   ]
  },
  {
   "cell_type": "markdown",
   "metadata": {},
   "source": [
    "<div style=\"text-align: right\"> **Due date: June 4, 2021.** </div> \n",
    "<div style=\"text-align: right\"> **Please upload your file @ LearnUs by 7 PM.** </div> \n",
    "<br>\n",
    "<div style=\"text-align: right\"> Daesung Jeon(전대성): <a href=\"mailto:ds.jeon@yonsei.ac.kr\">ds.jeon@yonsei.ac.kr</a> \n",
    "<div style=\"text-align: right\"> Hyekang Park(박혜강): <a href=\"mailto:hyekang.park@yonsei.ac.kr\">hyekang.park@yonsei.ac.kr</a> </div>\n",
    "</div>"
   ]
  },
  {
   "cell_type": "markdown",
   "metadata": {},
   "source": [
    "-------------------------------"
   ]
  },
  {
   "cell_type": "markdown",
   "metadata": {},
   "source": [
    "\n",
    "### *Assignment Instructions:*\n",
    "1. Write a program implementing a particular algorithm to solve a given problem.\n",
    "2. You can use both Korean and Engligh for your report.\n",
    "3. **Analyze the algorithm theoretically and empirically, and write discussion.** \n",
    "4. **Report your results.**  \n",
    "    - You must do assignments and labs yourself. \n",
    "    - <span style=\"color:red\">**Do not copy any part of your friends’ code.**</span>\n",
    "    - Otherwise, you will get a F grade."
   ]
  },
  {
   "cell_type": "markdown",
   "metadata": {},
   "source": [
    "-----------------"
   ]
  },
  {
   "cell_type": "markdown",
   "metadata": {},
   "source": [
    "<h2><span style=\"color:blue\">[2017142001] [송명근]</span> </h2>"
   ]
  },
  {
   "cell_type": "code",
   "execution_count": 1,
   "metadata": {},
   "outputs": [
    {
     "name": "stdout",
     "output_type": "stream",
     "text": [
      "This code is written at 2021-05-26 17:12:40.507813\n"
     ]
    }
   ],
   "source": [
    "import datetime\n",
    "print(\"This code is written at \" + str(datetime.datetime.now()))"
   ]
  },
  {
   "cell_type": "code",
   "execution_count": 2,
   "metadata": {},
   "outputs": [],
   "source": [
    "%load_ext autoreload\n",
    "%autoreload 2"
   ]
  },
  {
   "cell_type": "markdown",
   "metadata": {},
   "source": [
    "-------------------------------"
   ]
  },
  {
   "cell_type": "markdown",
   "metadata": {},
   "source": [
    "### PROBLEM I - Heap (30 POINTS)"
   ]
  },
  {
   "cell_type": "markdown",
   "metadata": {},
   "source": [
    "### I.1 Max Heap (5점)"
   ]
  },
  {
   "cell_type": "markdown",
   "metadata": {},
   "source": [
    "**Max heap**으로 binary heap ```BinHeap``` class를 구현하시오."
   ]
  },
  {
   "cell_type": "markdown",
   "metadata": {},
   "source": [
    "### NOTE\n",
    "\n",
    ">- ```assignment5.py``` 파일의 ```BinHeap``` class에 code를 작성할 것."
   ]
  },
  {
   "cell_type": "markdown",
   "metadata": {},
   "source": [
    "### I.2 - Find median (20점)"
   ]
  },
  {
   "cell_type": "markdown",
   "metadata": {},
   "source": [
    "임의의 정수 $n$개를 원소로 가지는 list ```lst```가 있다. $i$가 $1$부터 $n$까지 변할 때, sublist ```lst[0:i]```의 중앙값을 찾는 ```find_median```함수를 완성하시오.  \n",
    "\n",
    "\n",
    "### Example\n",
    "\n",
    "```lst = [4, 2, 10, 7]``` 일 때, \n",
    "> * [4]의 중앙값: 4\n",
    "> * [4, 2]의 중앙값: 2\n",
    "> * [4, 2, 10]의 중앙값: 4\n",
    "> * [4, 2, 10, 7]의 중앙값: 4\n",
    "\n",
    "### NOTE\n",
    "> * ```BinHeap```을 이용할 것.\n",
    "> * 모든 sublist에 대한 중앙값을 print할 것.\n",
    "> * $i$가 짝수일 경우, 중간에 있는 두 수 중 작은 수를 print.  \n",
    "> * list의 성분이 하나인 경우, 그 값을 print.\n",
    "> * Time complexity는 $\\mathcal{O}(n \\log n)$이하가 되도록 할 것.\n",
    "> * ```assignment5.py```파일의 ```find_median```함수에 code를 작성할 것."
   ]
  },
  {
   "cell_type": "code",
   "execution_count": 374,
   "metadata": {},
   "outputs": [
    {
     "name": "stdout",
     "output_type": "stream",
     "text": [
      "input list : [19, 23, 97, 51, 61, 38, 49, 13, 52, 79]\n",
      "19\n",
      "19\n",
      "23\n",
      "23\n",
      "51\n",
      "38\n",
      "49\n",
      "38\n",
      "49\n",
      "49\n"
     ]
    }
   ],
   "source": [
    "from assignment5 import find_median\n",
    "\n",
    "lst = [19, 23, 97, 51, 61, 38, 49, 13, 52, 79]\n",
    "print(f\"input list : {lst}\")\n",
    "find_median(lst)"
   ]
  },
  {
   "cell_type": "markdown",
   "metadata": {},
   "source": [
    "### I.2 Describe and discuss your answer (5점)"
   ]
  },
  {
   "cell_type": "markdown",
   "metadata": {},
   "source": [
    "big-$\\mathcal{O}$를 이용하여 작성한 code의 time complexity를 분석하시오."
   ]
  },
  {
   "cell_type": "markdown",
   "metadata": {},
   "source": [
    "먼저 모든 lst의 모든 요소에 대해 for문을 돌리는데 이는 O(n)이다. operation의 내용을 보면 조건문에 따른 insert 및 del_max를 수행한다. 이 때 처음에 insert 1번, root의 크기가 바뀌었을 때 바꿔주면서 insert 2번 del_max 2번을 수행한다. insert와 del_max모두 worst case에서 높이만큼 움직이는데 heap의 높이는 logn이므로 O(logn)이다. 앞의 n과 logn을 곱하여 time complexity는 O(nlogn)이 된다."
   ]
  },
  {
   "cell_type": "markdown",
   "metadata": {},
   "source": [
    "-------------------------------"
   ]
  },
  {
   "cell_type": "markdown",
   "metadata": {},
   "source": [
    "### PROBLEM II -  Splay Tree (70 POINTS)"
   ]
  },
  {
   "cell_type": "markdown",
   "metadata": {},
   "source": [
    "Splay tree는 Binary Search Tree(BST)의 한 종류이다. Splay tree는 **splay**라 부르는 rotation을 사용하여 특정 작업을 수행한 node를 root node로 만든다. Splay 연산의 이러한 특징 덕에, splay tree를 이용하면 구간 합, k 번째 원소 찾기 등의 문제를 빠르게 해결할 수 있다. Splay tree는 insert, delete, find 등을 amortized $\\mathcal{O}(\\log n)$에 처리가 가능하며 구현이 간단하다. \n",
    "\n",
    "Splay tree는 BST property를 만족하고, 다음과 같은 연산이 가능하다."
   ]
  },
  {
   "cell_type": "markdown",
   "metadata": {},
   "source": [
    "### 1. Splay"
   ]
  },
  {
   "cell_type": "markdown",
   "metadata": {},
   "source": [
    "**Splay**는 rotate를 이용하여 현재 node를 root로 만드는 연산이다. Tree의 구조에 따른 rotate는 **zig**, **zig-zig**, **zig-zag** 세 가지 step으로 구성된다. 이 3가지 step과 rotate의 정의는 다음과 같다."
   ]
  },
  {
   "cell_type": "markdown",
   "metadata": {},
   "source": [
    "### $\\bullet$ Rotate"
   ]
  },
  {
   "cell_type": "markdown",
   "metadata": {},
   "source": [
    "<img src = \"http://drive.google.com/uc?export=view&id=1RhEUitnIrx7UN6_QSSg9wWjNE5LkC3Cc\" alt=\"add_attribute\" width=\"800\">"
   ]
  },
  {
   "cell_type": "markdown",
   "metadata": {},
   "source": [
    "그림에서 **X**는 현재 node, **P**는 **X**의 parent, **A**, **B**, **C**는 subtree를 나타낸다. rotate(**X**)는 **X** node의 위치를 **X**의 parent node의 위치와 바꾸는 연산을 수행한다."
   ]
  },
  {
   "cell_type": "markdown",
   "metadata": {},
   "source": [
    "### $\\bullet$  Zig step"
   ]
  },
  {
   "cell_type": "markdown",
   "metadata": {},
   "source": [
    "Rotate의 예시 그림과 같이, 현재 node의 grand parent node(parent의 parent node)가 존재하지 않는 경우 rotate(**X**) 하는 것을 **Zig-step**이라 한다."
   ]
  },
  {
   "cell_type": "markdown",
   "metadata": {},
   "source": [
    "### $\\bullet$ Zig-Zig step"
   ]
  },
  {
   "cell_type": "markdown",
   "metadata": {},
   "source": [
    "<img src = \"http://drive.google.com/uc?export=view&id=1dsNMNEHJjbJOTJaVZw2xASbp28Ihtt1b\" alt=\"add_attribute\" width=\"800\">"
   ]
  },
  {
   "cell_type": "markdown",
   "metadata": {},
   "source": [
    "그림에서 **X**는 현재 node를, **P**는 **X**의 parent를, **G**는 parent의 parent(grand parent)를, **A**, **B**, **C**, **D**는 subtree를 나타낸다. 현재 node의 grand parent node가 존재하며, 현재 node와 현재 node의 parent가 둘 다 left child이거나 right child이면 rotate(**P**)를 수행한 후 rotate(**X**)를 수행한다. "
   ]
  },
  {
   "cell_type": "markdown",
   "metadata": {},
   "source": [
    "### $\\bullet$ Zig-Zag step"
   ]
  },
  {
   "cell_type": "markdown",
   "metadata": {},
   "source": [
    "<img src = \"http://drive.google.com/uc?export=view&id=1UNO6GUV8b6ceHby0bqvFPwY0FpZRTjLh\" alt=\"add_attribute\" width=\"800\">"
   ]
  },
  {
   "cell_type": "markdown",
   "metadata": {},
   "source": [
    "그림에서 **X**는 현재 node를, **P**는 **X**의 parent node를, **G**는 parent의 parent(grand parent)node를, **A**, **B**, **C**, **D**는 subtree를 나타낸다. 현재 node의 grand parent node가 존재할 때,  \n",
    ">- 현재 node는 left child, parent node는 right child\n",
    ">- 현재 node는 right child, parent node는 left child  \n",
    "\n",
    "라면 rotate(**X**)를 두 번 수행한다.  \n",
    "\n",
    "****  \n",
    "  \n",
    "**X**는 현재 node, **P**는 **X**의 parent, **G**는 parent의 parent(grand parent)일 때, splay 연산을 이용하여 특정 node **X**를 root로 옮기는 과정은 다음과 같다.  \n",
    "> 1. **X**가 root라면 종료한다.\n",
    "> 2. **P**가 root라면 (**G**가 존재하지 않는다면) rotate(**X**)를 수행한다. (**Zig-step**)\n",
    "> 3. **G**가 존재할 때 **G** $\\rightarrow$ **P**와 **P** $\\rightarrow$ **X**의 방향이 같다면 (i.e., **P**는 **G**의 left child이고 **X**도 **P**의 left child인 경우) rotate(**P**), rotate(**X**)를 차례로 수행한다. (**Zig-Zig step**)\n",
    "> 4. **G** $\\rightarrow$ **P**와 **P** $\\rightarrow$ **X**의 방향이 다르다면, rotate(**X**)를 두번 수행한다. (**Zig-Zag step**)\n",
    "> 5. **X**가 root가 될 때까지 반복한다.  \n",
    "\n"
   ]
  },
  {
   "cell_type": "markdown",
   "metadata": {},
   "source": [
    "### 2. Insert"
   ]
  },
  {
   "cell_type": "markdown",
   "metadata": {},
   "source": [
    "BST property를 만족하도록 새로운 key를 insert할 위치를 찾는다. 이 위치에 새 node를 insert하고, 이 node를 splay한다.  \n",
    "\n",
    ">- insert 하고자 하는 key와 같은 key를 가진 node가 있다면, right subtree에 insert한다."
   ]
  },
  {
   "cell_type": "markdown",
   "metadata": {},
   "source": [
    "### 3. Find"
   ]
  },
  {
   "cell_type": "markdown",
   "metadata": {},
   "source": [
    "찾고자 하는 key를 가진 node를 찾은 후, 이 node를 splay한다.\n",
    ">- find는 BST와 같은 방식으로 진행한다.\n",
    ">- tree에 key가 없는 경우, searching이 끝난 상태의 current node를 rotate한다. (rotate(**X**))"
   ]
  },
  {
   "cell_type": "markdown",
   "metadata": {},
   "source": [
    "### 4. Delete"
   ]
  },
  {
   "cell_type": "markdown",
   "metadata": {},
   "source": [
    "삭제할 node를 찾은 후 splay한다. 이후, 다음과 같은 과정을 거친다.  \n",
    ">- Root의 child가 없는 경우 root node를 삭제한다. Root의 child가 한 개 있는 경우 root node를 삭제하고 child를 root로 설정한다.\n",
    ">- Root가 left child, right child를 모두 가지고 있는 경우, left subtree의 가장 큰 key 값을 가진 node를 기준으로 splay하고 right subtree를 root의 right child로 만든다."
   ]
  },
  {
   "cell_type": "markdown",
   "metadata": {},
   "source": [
    "### 5. Traversal"
   ]
  },
  {
   "cell_type": "markdown",
   "metadata": {},
   "source": [
    "구현할 splay tree는 아래 3가지 방법의 traversal이 가능해야 한다.\n",
    "> - Pre-order\n",
    "> - Post-order\n",
    "> - In-order  "
   ]
  },
  {
   "cell_type": "markdown",
   "metadata": {},
   "source": [
    "위 설명을 참고하여 **Traversal**, **Insert**, **Find**, **Delete**, **Splay**연산이 가능한 ```SplayTree``` class를 완성하시오."
   ]
  },
  {
   "cell_type": "markdown",
   "metadata": {},
   "source": [
    "### NOTE"
   ]
  },
  {
   "cell_type": "markdown",
   "metadata": {},
   "source": [
    "> - ```Node``` class를 사용할 것.\n",
    "> - ```Node``` class 는 수정하지 말 것.\n",
    "> - 필요하다면 ```SplayTree```에 추가적인 method 구현 가능. 단, **method를 추가할 경우 주석으로 상세하게 설명할 것**.\n",
    "> - 외부 library는 사용 불가.\n",
    "> - ```assignment5.py```파일의 ```SplayTree``` class에 code를 작성할 것."
   ]
  },
  {
   "cell_type": "code",
   "execution_count": 394,
   "metadata": {},
   "outputs": [],
   "source": [
    "from assignment5 import SplayTree"
   ]
  },
  {
   "cell_type": "code",
   "execution_count": 395,
   "metadata": {},
   "outputs": [],
   "source": [
    "def print_tree(tree_node, level=0):\n",
    "    if isinstance(tree_node, SplayTree):\n",
    "        tree_node = tree_node.root\n",
    "        \n",
    "    if tree_node == None:\n",
    "        return\n",
    "    \n",
    "    if level != 0:\n",
    "        print(\"           \", end='')\n",
    "        if tree_node.parent.left_child == tree_node:\n",
    "            print(\"             \"*(level - 1) + '_____(L)' + '[{:2d}]'.format(tree_node.key))\n",
    "        else:\n",
    "            print(\"             \"*(level - 1) + '_____(R)' + '[{:2d}]'.format(tree_node.key))\n",
    "    else:\n",
    "        print('\\n----- Printing tree structure -----')\n",
    "        print('(Root)[{:2d}]'.format(tree_node.key))\n",
    "        \n",
    "    print_tree(tree_node.right_child, level + 1)\n",
    "    print_tree(tree_node.left_child, level + 1)"
   ]
  },
  {
   "cell_type": "code",
   "execution_count": 396,
   "metadata": {},
   "outputs": [],
   "source": [
    "tree = SplayTree()"
   ]
  },
  {
   "cell_type": "code",
   "execution_count": 397,
   "metadata": {},
   "outputs": [
    {
     "name": "stdout",
     "output_type": "stream",
     "text": [
      "\n",
      "----- Printing tree structure -----\n",
      "(Root)[23]\n"
     ]
    }
   ],
   "source": [
    "tree.insert(23)\n",
    "print_tree(tree)"
   ]
  },
  {
   "cell_type": "code",
   "execution_count": 398,
   "metadata": {},
   "outputs": [
    {
     "name": "stdout",
     "output_type": "stream",
     "text": [
      "\n",
      "----- Printing tree structure -----\n",
      "(Root)[30]\n",
      "           _____(L)[23]\n"
     ]
    }
   ],
   "source": [
    "tree.insert(30)\n",
    "print_tree(tree)"
   ]
  },
  {
   "cell_type": "code",
   "execution_count": 399,
   "metadata": {},
   "outputs": [
    {
     "name": "stdout",
     "output_type": "stream",
     "text": [
      "\n",
      "----- Printing tree structure -----\n",
      "(Root)[45]\n",
      "           _____(L)[30]\n",
      "                        _____(L)[23]\n"
     ]
    }
   ],
   "source": [
    "tree.insert(45)\n",
    "print_tree(tree)"
   ]
  },
  {
   "cell_type": "code",
   "execution_count": 400,
   "metadata": {},
   "outputs": [
    {
     "name": "stdout",
     "output_type": "stream",
     "text": [
      "\n",
      "----- Printing tree structure -----\n",
      "(Root)[ 1]\n",
      "           _____(R)[45]\n",
      "                        _____(L)[23]\n",
      "                                     _____(R)[30]\n"
     ]
    }
   ],
   "source": [
    "tree.insert(1)\n",
    "print_tree(tree)"
   ]
  },
  {
   "cell_type": "code",
   "execution_count": 401,
   "metadata": {},
   "outputs": [
    {
     "name": "stdout",
     "output_type": "stream",
     "text": [
      "\n",
      "----- Printing tree structure -----\n",
      "(Root)[21]\n",
      "           _____(R)[23]\n",
      "                        _____(R)[45]\n",
      "                                     _____(L)[30]\n",
      "           _____(L)[ 1]\n"
     ]
    }
   ],
   "source": [
    "tree.insert(21)\n",
    "print_tree(tree)"
   ]
  },
  {
   "cell_type": "code",
   "execution_count": 402,
   "metadata": {},
   "outputs": [
    {
     "name": "stdout",
     "output_type": "stream",
     "text": [
      "\n",
      "----- Printing tree structure -----\n",
      "(Root)[38]\n",
      "           _____(R)[45]\n",
      "           _____(L)[23]\n",
      "                        _____(R)[30]\n",
      "                        _____(L)[21]\n",
      "                                     _____(L)[ 1]\n"
     ]
    }
   ],
   "source": [
    "tree.insert(38)\n",
    "print_tree(tree)"
   ]
  },
  {
   "cell_type": "code",
   "execution_count": 403,
   "metadata": {},
   "outputs": [
    {
     "name": "stdout",
     "output_type": "stream",
     "text": [
      "\n",
      "----- Printing tree structure -----\n",
      "(Root)[ 9]\n",
      "           _____(R)[23]\n",
      "                        _____(R)[38]\n",
      "                                     _____(R)[45]\n",
      "                                     _____(L)[30]\n",
      "                        _____(L)[21]\n",
      "           _____(L)[ 1]\n"
     ]
    }
   ],
   "source": [
    "tree.insert(9)\n",
    "print_tree(tree)"
   ]
  },
  {
   "cell_type": "code",
   "execution_count": 404,
   "metadata": {},
   "outputs": [
    {
     "name": "stdout",
     "output_type": "stream",
     "text": [
      "\n",
      "----- Printing tree structure -----\n",
      "(Root)[16]\n",
      "           _____(R)[21]\n",
      "                        _____(R)[23]\n",
      "                                     _____(R)[38]\n",
      "                                                  _____(R)[45]\n",
      "                                                  _____(L)[30]\n",
      "           _____(L)[ 9]\n",
      "                        _____(L)[ 1]\n"
     ]
    }
   ],
   "source": [
    "tree.insert(16)\n",
    "print_tree(tree)"
   ]
  },
  {
   "cell_type": "code",
   "execution_count": 405,
   "metadata": {},
   "outputs": [
    {
     "name": "stdout",
     "output_type": "stream",
     "text": [
      "\n",
      "----- Printing tree structure -----\n",
      "(Root)[ 4]\n",
      "           _____(R)[16]\n",
      "                        _____(R)[21]\n",
      "                                     _____(R)[23]\n",
      "                                                  _____(R)[38]\n",
      "                                                               _____(R)[45]\n",
      "                                                               _____(L)[30]\n",
      "                        _____(L)[ 9]\n",
      "           _____(L)[ 1]\n"
     ]
    }
   ],
   "source": [
    "tree.insert(4)\n",
    "print_tree(tree)"
   ]
  },
  {
   "cell_type": "code",
   "execution_count": 406,
   "metadata": {},
   "outputs": [
    {
     "name": "stdout",
     "output_type": "stream",
     "text": [
      "\n",
      "----- Printing tree structure -----\n",
      "(Root)[23]\n",
      "           _____(R)[38]\n",
      "                        _____(R)[45]\n",
      "                        _____(L)[30]\n",
      "           _____(L)[ 4]\n",
      "                        _____(R)[21]\n",
      "                                     _____(L)[16]\n",
      "                                                  _____(L)[ 9]\n",
      "                        _____(L)[ 1]\n"
     ]
    }
   ],
   "source": [
    "tree.find(23)\n",
    "print_tree(tree)"
   ]
  },
  {
   "cell_type": "code",
   "execution_count": 407,
   "metadata": {},
   "outputs": [
    {
     "name": "stdout",
     "output_type": "stream",
     "text": [
      "\n",
      "----- Printing tree structure -----\n",
      "(Root)[38]\n",
      "           _____(L)[23]\n",
      "                        _____(R)[30]\n",
      "                        _____(L)[ 4]\n",
      "                                     _____(R)[21]\n",
      "                                                  _____(L)[16]\n",
      "                                                               _____(L)[ 9]\n",
      "                                     _____(L)[ 1]\n"
     ]
    }
   ],
   "source": [
    "tree.delete(45)\n",
    "print_tree(tree)"
   ]
  },
  {
   "cell_type": "code",
   "execution_count": 408,
   "metadata": {},
   "outputs": [
    {
     "name": "stdout",
     "output_type": "stream",
     "text": [
      "\n",
      "----- Printing tree structure -----\n",
      "(Root)[23]\n",
      "           _____(R)[30]\n",
      "           _____(L)[ 4]\n",
      "                        _____(R)[21]\n",
      "                                     _____(L)[16]\n",
      "                                                  _____(L)[ 9]\n",
      "                        _____(L)[ 1]\n"
     ]
    }
   ],
   "source": [
    "tree.delete(38)\n",
    "print_tree(tree)"
   ]
  },
  {
   "cell_type": "code",
   "execution_count": 409,
   "metadata": {},
   "outputs": [
    {
     "name": "stdout",
     "output_type": "stream",
     "text": [
      "\n",
      "----- Printing tree structure -----\n",
      "(Root)[16]\n",
      "           _____(R)[23]\n",
      "                        _____(R)[30]\n",
      "           _____(L)[ 4]\n",
      "                        _____(R)[ 9]\n",
      "                        _____(L)[ 1]\n"
     ]
    }
   ],
   "source": [
    "tree.delete(21)\n",
    "print_tree(tree)"
   ]
  },
  {
   "cell_type": "code",
   "execution_count": 411,
   "metadata": {},
   "outputs": [
    {
     "name": "stdout",
     "output_type": "stream",
     "text": [
      "\n",
      "----- Printing tree structure -----\n",
      "(Root)[21]\n",
      "           _____(R)[23]\n",
      "                        _____(R)[30]\n",
      "           _____(L)[16]\n",
      "                        _____(L)[ 4]\n",
      "                                     _____(R)[ 9]\n",
      "                                     _____(L)[ 1]\n"
     ]
    }
   ],
   "source": [
    "tree.insert(21)\n",
    "print_tree(tree)"
   ]
  },
  {
   "cell_type": "code",
   "execution_count": 412,
   "metadata": {},
   "outputs": [
    {
     "name": "stdout",
     "output_type": "stream",
     "text": [
      "1\n",
      "4\n",
      "9\n",
      "16\n",
      "21\n",
      "23\n",
      "30\n"
     ]
    }
   ],
   "source": [
    "tree.in_order(tree.root)"
   ]
  },
  {
   "cell_type": "code",
   "execution_count": 413,
   "metadata": {},
   "outputs": [
    {
     "name": "stdout",
     "output_type": "stream",
     "text": [
      "21\n",
      "16\n",
      "4\n",
      "1\n",
      "9\n",
      "23\n",
      "30\n"
     ]
    }
   ],
   "source": [
    "tree.pre_order(tree.root)"
   ]
  },
  {
   "cell_type": "code",
   "execution_count": 414,
   "metadata": {},
   "outputs": [
    {
     "name": "stdout",
     "output_type": "stream",
     "text": [
      "1\n",
      "9\n",
      "4\n",
      "16\n",
      "30\n",
      "23\n",
      "21\n"
     ]
    }
   ],
   "source": [
    "tree.post_order(tree.root)"
   ]
  },
  {
   "cell_type": "markdown",
   "metadata": {},
   "source": [
    "### Describe and Discuss your answer"
   ]
  },
  {
   "cell_type": "markdown",
   "metadata": {},
   "source": [
    "미리 구현되어 있는 Node class를 이용하여 SplayTree를 구현하였다. Splay tree의 가장중요한 splay 메소드를 구현하기 위해 rotate 메소드를 새로 추가해주었다. 이 때 rotate하는 노드가 root일 때에는 left child right child 어느곳에도 해당되지 않으므로 아무것도 하지 않는다. 노드가 root가 아닐 때에는 먼저 left, right child중 어느 것인지 판별한 뒤 left의 경우 노드의 right child를 parent의 left child로 만들고 right의 경우 노드의 left child를 parent의 right child로 만든다. 또한 노드의 parent가 left child, right child, root일 때를 나눠주었다. 먼저 root일 때에는 rotate하고 난 뒤 노드의 parent로 이어줄 노드가 없으므로 그냥 parent를 노드의 child로 만든 뒤 parent를 None으로 설정해주었다. left, right child일 때에는 rotate한 뒤 이어줄 Grandparent의 노드를 parent로 이어주었다. 이 때 parent의 child 방향과 같게 G에 연결해주었다.\n",
    "\n",
    "이렇게 구현한 rotate를 바탕으로 splay를 구현하였다. splay를 한 노드는 총 3가지 경우를 root가 될 때 까지 반복한다. 첫 번째는 zig step으로 parent가 root일 때 자신의 노드를 rotate 해주면 된다. 두 번째는 zig-zig step으로 parent의 parent가 존재하며 자신과 parent가 같은 방향의 child일 때에 parent를 먼저 rotate한 뒤 자신을 rotate해주면 된다. 마지막으로 zig-zag step으로 parent의 parent가 존재하며 자신과 parent가 반대 방향의 child일 때 자신을 두번 rotate해주면 된다.\n",
    "\n",
    "그 다음 insert를 구현해 주었다. 이 때 편의를 위해 _ insert 메소드를 추가하였다. 만약 root가 비었다면 그 자리에 노드를 넣어주었다. 만약 root에 자리가 찼다면 _ insert 메소드에 따라 입력된 키의 크기를 current의 key값과 비교해가며 current key보다 작다면 왼쪽으로 크거나 같다면 오른쪽으로 이동하여 자리가 있는지 확인한 뒤 자리가 비었다면 넣어주고 없다면 그 노드를 current로 옮기며 이 과정을 반복해주었다.\n",
    "\n",
    "그 다음 find를 구현해주었다. find도 insert 와 비슷한 방식으로 진행된다. 먼저 편의를 위해 _ find 메소드를 생성해준 뒤 만약 root에 값이 없다면 False를 반환하고 있다면 _ find를 통해 찾기 시작한다. _ find에서 current.key와 값이 같다면 그 노드를 splay해주고 True를 반환해 주었다. 만약 더 작다면 왼쪽으로 크거나 같다면 오른쪽으로 이동하였다. 만약 이동한 곳에 노드가 없었다면 이동하기 전 노드를 splay해준 뒤 False를 반환하였다. 노드가 있었다면 recursion을 통해 current를 그 위치로 옮긴뒤 위 과정을 return값이 있을 때 까지 반복하도록 해주었다.\n",
    "\n",
    "그 다음 delete를 구현해주었다. 먼저 그 key값을 find해보고 만약 찾았다면 (found 값이 True 라면) 현재 root의 child 개수에 따라 나누어 주었다. 만약 child가 없다면 root를 제거해주었다. child가 하나라면 root를 제거한 뒤 그 child를 root로 만들어주었다. both child를 가지고 있다면 left child에서 가장 큰 값을 찾아 root를 계승할 노드를 splay해준 뒤 과거 root의 right child를 계승할 노드의 right child로 연결해 주었다. 이 과정이 가능한 이유는 이 과정에서 사용된 find_max 메소드를 통해 알 수 있다. left_child에서 가장 큰 값을 찾기 위해 right child가 없는 노드를 찾을 때 까지 right로 이동한다. 따라서 찾은 계승 노드는 right child가 없다. 따라서 splay한 뒤에도 right child가 존재하지 않으므로 이 빈 자리에 과거 root의 right child를 넣어줌으로써 left와 right를 병합해주는 역할을 수행하는 것이다.\n",
    "\n",
    "마지막으로 pre_order, post_order, in_order를 정의에 의해 재귀를 사용하여 구현해 주었다. pre_order은 parent, left, right 순서, post_order은 left, right, parent 순서, in_order은 left, parent, right 순서대로 traversal 하였다. 이 때 in_order은 단조증가 형태로 print 되는 것을 확인할 수 있다."
   ]
  },
  {
   "cell_type": "markdown",
   "metadata": {},
   "source": [
    "-------------------------------"
   ]
  }
 ],
 "metadata": {
  "anaconda-cloud": {},
  "kernelspec": {
   "display_name": "Python 3",
   "language": "python",
   "name": "python3"
  },
  "language_info": {
   "codemirror_mode": {
    "name": "ipython",
    "version": 3
   },
   "file_extension": ".py",
   "mimetype": "text/x-python",
   "name": "python",
   "nbconvert_exporter": "python",
   "pygments_lexer": "ipython3",
   "version": "3.8.5"
  }
 },
 "nbformat": 4,
 "nbformat_minor": 1
}
