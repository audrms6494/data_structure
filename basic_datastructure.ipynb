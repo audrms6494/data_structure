{
 "cells": [
  {
   "cell_type": "markdown",
   "metadata": {},
   "source": [
    "> ### EEE2020: Data Structures & Algorithms\n",
    "\n",
    "# Assignment \\# I: Object Oriented Programming & Algorithm Analysis"
   ]
  },
  {
   "cell_type": "markdown",
   "metadata": {},
   "source": [
    "<div style=\"text-align: right\"> **Due date: March 26, 2021.** </div> \n",
    "<div style=\"text-align: right\"> **Please upload your file @ yscec by 7 PM.** </div> \n",
    "<br>\n",
    "<div style=\"text-align: right\"> Daesung Jeon(전대성): <a href=\"mailto:ds.jeon@yonsei.ac.kr\">ds.jeon@yonsei.ac.kr</a> \n",
    "<div style=\"text-align: right\"> Hyekang Park(박혜강): <a href=\"mailto:hyekang.park@yonsei.ac.kr\">hyekang.park@yonsei.ac.kr</a> </div>\n",
    "</div>"
   ]
  },
  {
   "cell_type": "markdown",
   "metadata": {},
   "source": [
    "-------------------------------"
   ]
  },
  {
   "cell_type": "markdown",
   "metadata": {},
   "source": [
    "\n",
    "### *Assignment Instructions:*\n",
    "1. Write a program implementing a particular algorithm to solve a given problem.\n",
    "2. You can use both Korean and Engligh for your report.\n",
    "3. Since this is your first assignment of the course, comprehensive instructions are given for particular problems.  \n",
    " However, note that this might not be the case for further assignments over the course.\n",
    "4. **Analyze the algorithm theoretically and empirically, and write discussion.** \n",
    "5. **Report your results.**  \n",
    "    - You must do assignments and labs yourself. \n",
    "    - <span style=\"color:red\">**Do not copy any part of your friends’ code.**</span>\n",
    "    - Otherwise, you will get a F grade."
   ]
  },
  {
   "cell_type": "markdown",
   "metadata": {},
   "source": [
    "-----------------"
   ]
  },
  {
   "cell_type": "markdown",
   "metadata": {},
   "source": [
    "<h2><span style=\"color:blue\">[2017142001] [송명근]</span> </h2>"
   ]
  },
  {
   "cell_type": "code",
   "execution_count": 1,
   "metadata": {},
   "outputs": [
    {
     "name": "stdout",
     "output_type": "stream",
     "text": [
      "This code is written at 2021-03-23 19:00:04.396549\n"
     ]
    }
   ],
   "source": [
    "import datetime\n",
    "print(\"This code is written at \" + str(datetime.datetime.now()))"
   ]
  },
  {
   "cell_type": "markdown",
   "metadata": {},
   "source": [
    "-------------------------------"
   ]
  },
  {
   "cell_type": "markdown",
   "metadata": {},
   "source": [
    "### PROBLEM I - Class (50 POINTS)"
   ]
  },
  {
   "cell_type": "markdown",
   "metadata": {},
   "source": [
    "### Matrix"
   ]
  },
  {
   "cell_type": "markdown",
   "metadata": {},
   "source": [
    "행렬은 수, 기호, 식 등을 직사각형으로 배열한 것이다. 행렬을 구성하는 수, 기호, 식 등을 행렬의 원소라 부른다. 예를 들어, 수 1, 0, 2, -1, 3, 1을 원소로 갖는 $3\\times2$ 행렬은 다음과 같이 표현할 수 있다.\n",
    "\n",
    "$$\\begin{equation} \n",
    "    A = \n",
    "    \\begin{bmatrix}\n",
    "        1&0\\\\2&-1\\\\3&1\\\\\n",
    "    \\end{bmatrix} \n",
    "\\end{equation}$$\n",
    "\n",
    "행렬에서 **가로로 된 줄을 행(row)**, **세로로 된 줄을 열(column)**이라 한다. 따라서 위의 $3\\times2$ 행렬 $A$는 3개의 행과 2개의 열을 가지는 행렬이다. $A$의 $i$ 번째 행, $j$ 번째 열에 위치한 원소는 $A_{ij}$로 나타낸다. 예를 들어, $A_{21}=2$, $A_{32}=1$이다.\n",
    "\n",
    "$m$개의 행과 $n$개의 열로 구성된 행렬을 일반화하여 표현하면 다음과 같다. \n",
    "\n",
    "$$\n",
    "\\begin{equation}\n",
    "    A = \\begin{bmatrix}\n",
    "        A_{11}&A_{12}&A_{13}&\\cdots &A_{1n}\\\\\n",
    "        A_{21}&A_{22}&A_{23}&\\cdots &A_{2n}\\\\\n",
    "        A_{31}&A_{32}&A_{33}&\\cdots &A_{3n}\\\\\n",
    "        \\vdots &\\vdots &\\vdots &\\ddots &\\vdots \\\\\n",
    "        A_{m1}&A_{m2}&A_{m3}&\\cdots &A_{mn}\n",
    "        \\end{bmatrix}\n",
    "\\end{equation}\n",
    "$$\n",
    "\n",
    "**본 과제에서 $m \\times n$ 행렬의 dimension(혹은 shape)은 (m, n)으로 정의한다.**"
   ]
  },
  {
   "cell_type": "markdown",
   "metadata": {},
   "source": [
    "두 행렬 $A$, $B$의 dimension이 같다면 행렬 간 덧셈이 가능하다. **행렬 간 덧셈**은 다음과 같이 **같은 위치의 원소들을 더한 것**으로 정의된다.\n",
    "\n",
    "$$\n",
    "\\begin{equation}\n",
    "    \\begin{bmatrix}\n",
    "        1&3&7\\\\\n",
    "        1&0&0\n",
    "    \\end{bmatrix} +\n",
    "    \\begin{bmatrix}\n",
    "        0&0&5\\\\\n",
    "        7&5&0\n",
    "    \\end{bmatrix} = \n",
    "    \\begin{bmatrix}\n",
    "        1+0&3+0&7+5\\\\\n",
    "        1+7&0+5&0+0\n",
    "    \\end{bmatrix} =\n",
    "    \\begin{bmatrix}\n",
    "        1&3&12\\\\8&5&0\n",
    "    \\end{bmatrix}\n",
    "\\end{equation}\n",
    "$$"
   ]
  },
  {
   "cell_type": "markdown",
   "metadata": {},
   "source": [
    "본 과제에서 **행렬과 실수의 덧셈**은 다음과 같이 **행렬의 모든 원소에 실수를 더하는 것**으로 정의한다.\n",
    "\n",
    "$$\n",
    "\\begin{equation}\n",
    "    100 +\n",
    "    \\begin{bmatrix}\n",
    "        -2&3&5\\\\\n",
    "        1&5&9\n",
    "    \\end{bmatrix} = \n",
    "    \\begin{bmatrix}\n",
    "        100+(-2)&100+3&100+5\\\\\n",
    "        100+1&100+5&100+9\n",
    "    \\end{bmatrix} =\n",
    "    \\begin{bmatrix}\n",
    "        98&103&105\\\\101&105&109\n",
    "    \\end{bmatrix}\n",
    "\\end{equation}\n",
    "$$"
   ]
  },
  {
   "cell_type": "markdown",
   "metadata": {},
   "source": [
    "마찬가지로, **행렬과 실수의 곱셈(스칼라 곱)**은 다음 예시와 같이 **행렬의 모든 원소에 실수를 곱하는 것**으로 정의한다.\n",
    "\n",
    "$$\n",
    "\\begin{equation}\n",
    "    100 \n",
    "    \\begin{bmatrix}\n",
    "        -2&3&5\\\\\n",
    "        1&5&9\n",
    "    \\end{bmatrix} = \n",
    "    \\begin{bmatrix}\n",
    "        100\\times(-2)&100\\times3&100\\times5\\\\\n",
    "        100\\times1&100\\times5&100\\times9\n",
    "    \\end{bmatrix} =\n",
    "    \\begin{bmatrix}\n",
    "        -200&300&500\\\\100&500&900\n",
    "    \\end{bmatrix}\n",
    "\\end{equation}\n",
    "$$"
   ]
  },
  {
   "cell_type": "markdown",
   "metadata": {},
   "source": [
    "위의 세 연산(행렬 간 덧셈, 행렬과 실수의 덧셈, 행렬과 실수의 곱셈)은 **교환 법칙이 성립**한다."
   ]
  },
  {
   "cell_type": "markdown",
   "metadata": {},
   "source": [
    "**두 행렬 $A$, $B$의 곱 $AB$는 $A$의 열 개수가 $B$의 행 개수와 같을 때 정의**된다. $A$, $B$의 곱셈이 정의될 때, $C=AB$이면, $C_{ij}$는 다음과 같이 정의된다.\n",
    "\n",
    "$$\n",
    "\\begin{equation}\n",
    "    C_{ij}=\\sum_{k=1}^{n}A_{ik}B_{kj}=A_{i1}B_{1j}+A_{i2}B_{2j}+\\cdots A_{in}B_{nj}\n",
    "\\end{equation}\n",
    "$$"
   ]
  },
  {
   "cell_type": "markdown",
   "metadata": {},
   "source": [
    "즉, **$C_{ij}$는 $A$의 $i$ 번째 행 원소들로 구성된 벡터와 $B$의 $j$ 번째 열 원소들로 구성된 벡터를 내적한 값**이다. 행렬 간 곱셈의 예는 다음과 같다."
   ]
  },
  {
   "cell_type": "markdown",
   "metadata": {},
   "source": [
    "$$\n",
    "\\begin{equation}\n",
    "    AB=\n",
    "    \\begin{bmatrix}\n",
    "        1&0&2\\\\\n",
    "        -1&3&1\\\\\n",
    "    \\end{bmatrix}\n",
    "    \\begin{bmatrix}\n",
    "        3&1\\\\\n",
    "        2&1\\\\\n",
    "        1&0\n",
    "    \\end{bmatrix} =\n",
    "    \\begin{bmatrix}\n",
    "        1\\cdot 3+0\\cdot 2+2\\cdot 1&1\\cdot 1+0\\cdot 1+2\\cdot 0\\\\\n",
    "        -1\\cdot 3+3\\cdot 2+1\\cdot 1&-1\\cdot 1+3\\cdot 1+1\\cdot 0\n",
    "    \\end{bmatrix}=\n",
    "    \\begin{bmatrix}\n",
    "        5&1\\\\\n",
    "        4&2\n",
    "    \\end{bmatrix}\n",
    "    =C\n",
    "\\end{equation}$$"
   ]
  },
  {
   "cell_type": "markdown",
   "metadata": {},
   "source": [
    "$C_{12}$는 아래 식과 같이 $A$의 첫 번째 행벡터 $\\begin{bmatrix} 1 & 0 &2 \\end{bmatrix}$와 $B$의 두 번째 열벡터 $\\begin{bmatrix} 1 & 1& 0 \\end{bmatrix}$의 내적값을 원소로 갖는다.\n",
    "\n",
    "$$\n",
    "\\begin{equation}\n",
    "    C_{12} = A_i \\cdot B_j = \n",
    "    \\begin{bmatrix}\n",
    "        1 & 0 & 2\n",
    "    \\end{bmatrix} \\cdot\n",
    "    \\begin{bmatrix}\n",
    "        1 & 1 & 0\n",
    "    \\end{bmatrix} = 1 \\cdot 1 + 0 \\cdot 1 + 2 \\cdot 0 = 1\n",
    "\\end{equation}\n",
    "$$"
   ]
  },
  {
   "cell_type": "markdown",
   "metadata": {},
   "source": [
    "위의 설명을 참고하여 아래의 조건을 만족하는 ```Matrix``` 클래스를 완성하시오."
   ]
  },
  {
   "cell_type": "markdown",
   "metadata": {},
   "source": [
    "### Conditions\n",
    "1. ```Matrix``` 클래스는 2-dimensional list(double list)를 argument로 하여 2차원 이하의 행렬을 표현한다. \n",
    "2. ```__init__``` 메소드(constructor)에서 object attribute로 행렬의 row vectors와 shape(dimension)을 결정한다. 예를 들어, ```Matrix([[1, 2, 3], [4, 5, 6]]).vectors```와 ```Matrix([[1, 2, 3], [4, 5, 6]]).shape```의 반환 값은 다음과 같다.\n",
    "> ```[[1, 2, 3], [4, 5, 6]]```, ```(2, 3)```\n",
    "3. ```print```를 사용했을 때 2차원 행렬 꼴로 출력한다. 예를 들어, ```print(Matrix([[1, 2, 3], [4, 5, 6]]))```의 출력은 다음과 같다.\n",
    "> ```[[1, 2, 3]\n",
    "     [4, 5, 6]]```\n",
    "4. ```len()```함수를 이용 했을 때, row vector의 개수를 반환하도록 한다. 예를 들어, ```len(Matrix([[1, 2, 3], [4, 5, 6]]))```의 반환 값은 다음과 같다.\n",
    "> ```2```\n",
    "5. ```Matrix``` class의 object는 다음을 만족해야 한다.\n",
    "> 1) ```+``` 연산자로 행렬 간 덧셈 및 실수와의 덧셈이 가능하다.  \n",
    "> 2) 행렬의 부호 변환(```-my_matrix```)이 가능하다.  \n",
    "> 3) ```-``` 연산자로 행렬 간 뺄셈 및 실수와의 뺄셈이 가능하다.  \n",
    "> 4) ```*``` 연산자로 행렬 간 곱셈 및 실수와의 곱셈이 가능하다.  \n",
    "> 5) 교환 법칙이 성립하는 연산의 경우, 이를 표현할 수 있다.  \n",
    "> 6) ```/``` 연산자로 행렬의 원소를 실수로 나누는 연산이 가능하다.  \n",
    "> 7) ```==``` 와 ```!=``` 연산자로 object 간 비교가 가능하다.  \n",
    "> 8) 연산이 불가능한 경우 error message를 출력한다.  \n",
    "> 9) 비교를 제외한 모든 연산의 결과는 ```Matrix``` class이다. 즉, ```(type(result_matrix) == Matrix) = True```이다.\n",
    "\n",
    "\n",
    "### NOTE\n",
    "\n",
    "* *Numpy등의 외부 라이브러리는 사용하지 않는다 (사용 시 해당 문항 0점).*\n",
    "\n",
    "* 필요할 경우 명시된 attribute 외의 object attribute를 선언 및 사용할 수 있다.\n",
    "\n",
    "### HINT\n",
    "* ```isinstance(object, type)``` 함수는 ```object```가 주어진 ```type```과 일치하면 ```True``` 그렇지 않으면 ```False```를 반환하는 함수이다. \n",
    "> ```int``` 혹은 ```float``` 변수 num에 대해 ```isinstance(num, (int, float)) = True```.\n",
    "* ```__radd__(), __rmul__()```등을 응용하면 교환 법칙이 성립하도록 할 수 있다.\n"
   ]
  },
  {
   "cell_type": "code",
   "execution_count": 27,
   "metadata": {},
   "outputs": [],
   "source": [
    "class Matrix:\n",
    "    def __init__(self, vectors):\n",
    "        assert isinstance(vectors, list), 'Input argument must be a list.'\n",
    "        assert all([isinstance(vector, list) for vector in vectors]), 'Row vectors must be a list.'\n",
    "        assert all(len(vector) == len(vectors[0]) for vector in vectors), 'Row vectors must have the same length.'\n",
    "        self.vectors = vectors\n",
    "        self.shape = (len(vectors), len(vectors[0]))\n",
    "        \n",
    "    def __str__(self):\n",
    "        string = '['\n",
    "        for n in range(len(self.vectors) - 1) :\n",
    "            string += str((self.vectors[n])) + '\\n '\n",
    "        string += str(self.vectors[len(self.vectors) - 1]) + ']'\n",
    "        return string\n",
    "            \n",
    "    def __len__(self):\n",
    "        return len(self.vectors)\n",
    "    \n",
    "    def __add__(self, other):\n",
    "        assert isinstance(other, int) or isinstance(other, float) or isinstance(other, Matrix), \\\n",
    "        'Input must be either real number or matrix'\n",
    "        if isinstance(other, int) or isinstance(other, float) : ##Real number\n",
    "            result = []\n",
    "            for i in range(self.shape[0]) :\n",
    "                temp = []\n",
    "                for j in range(self.shape[1]) :\n",
    "                    temp.append(self.vectors[i][j] + other)\n",
    "                result.append(temp)    \n",
    "            return Matrix(result)\n",
    "        else : ##Matrix\n",
    "            assert other.shape == self.shape, 'Shape of two matrix do not match each other'\n",
    "            result = []\n",
    "            for i in range(self.shape[0]) :\n",
    "                temp = []\n",
    "                for j in range(self.shape[1]) :\n",
    "                    temp.append(self.vectors[i][j] + other.vectors[i][j])\n",
    "                result.append(temp)\n",
    "            return Matrix(result)\n",
    "    \n",
    "    def __radd__(self, other):\n",
    "        return self + other ## 행렬과 실수, 행렬간의 덧셈은 교환법칙이 성립한다.\n",
    "        \n",
    "    def __mul__(self, other):\n",
    "        assert isinstance(other, int) or isinstance(other, float) or isinstance(other, Matrix), \\\n",
    "        'Input must be either real number or matrix'\n",
    "        if isinstance(other, int) or isinstance(other, float) : ##Real number\n",
    "            result = []\n",
    "            for i in range(self.shape[0]) :\n",
    "                temp = []\n",
    "                for j in range(self.shape[1]) :\n",
    "                    temp.append(self.vectors[i][j] * other)\n",
    "                result.append(temp)    \n",
    "            return Matrix(result)\n",
    "        else : ##Matrix\n",
    "            assert other.shape[0] == self.shape[1], 'Row of first matrix do not match with column of second matrix'\n",
    "            result = []\n",
    "            for i in range(self.shape[0]) :\n",
    "                temp = []\n",
    "                for j in range(other.shape[1]) :\n",
    "                    sum = 0\n",
    "                    for k in range(other.shape[0]) :\n",
    "                        sum += self.vectors[i][k] * other.vectors[k][j]\n",
    "                    temp.append(sum)\n",
    "                result.append(temp)\n",
    "            return Matrix(result)\n",
    "        \n",
    "    def __rmul__(self, other): \n",
    "        assert isinstance(other, int) or isinstance(other, float) or isinstance(other, Matrix), \\\n",
    "        'Input must be either real number or matrix'\n",
    "        if isinstance(other, int) or isinstance(other, float) : # 행렬과 실수의 곱셈은 교환법칙이 성립한다.\n",
    "            return self * other\n",
    "        else : ## 행렬끼리의 곱셈은 교환법칙이 성립하지 않는다.\n",
    "            assert other.shape[0] == self.shape[1], 'Row of first matrix do not match with column of second matrix'\n",
    "            result = []\n",
    "            for i in range(self.shape[0]) :\n",
    "                temp = []\n",
    "                for j in range(other.shape[1]) :\n",
    "                    sum = 0\n",
    "                    for k in range(other.shape[0]) :\n",
    "                        sum += self.vectors[i][k] * other.vectors[k][j]\n",
    "                    temp.append(sum)\n",
    "                result.append(temp)\n",
    "            return Matrix(result)\n",
    "    \n",
    "    def __neg__(self):\n",
    "        return (-1) * self\n",
    "        \n",
    "    def __sub__(self, other):\n",
    "        return self + (-other)\n",
    "        \n",
    "    def __rsub__(self, other):\n",
    "        return (-self) + other\n",
    "    \n",
    "    def __truediv__(self, other):\n",
    "        assert isinstance(other,int) or isinstance(other,float), 'The input for division must be real number'\n",
    "        return self * (1/other)\n",
    "    \n",
    "    def __eq__(self, other):\n",
    "        assert isinstance(other,Matrix), 'The type does not match'\n",
    "        assert other.shape == self.shape, 'The shape does not match'\n",
    "        for i in range(self.shape[0]) :\n",
    "            for j in range(self.shape[1]) :\n",
    "                if self.vectors[i][j] != other.vectors[i][j] :\n",
    "                    return False\n",
    "        return True\n",
    "    \n",
    "    def __ne__(self, other):\n",
    "        return not bool(self == other)\n",
    "   "
   ]
  },
  {
   "cell_type": "code",
   "execution_count": 28,
   "metadata": {},
   "outputs": [],
   "source": [
    "my_matrix1 = Matrix([[1, 2, 3], [4, 5, 6], [7, 8, 9]])\n",
    "my_matrix2 = Matrix([[1, 1, 1], [2, 2, 2], [3, 3, 3]])\n",
    "my_matrix3 = Matrix([[10, 20], [30, 40], [50, 60]])"
   ]
  },
  {
   "cell_type": "code",
   "execution_count": 29,
   "metadata": {
    "scrolled": true
   },
   "outputs": [
    {
     "name": "stdout",
     "output_type": "stream",
     "text": [
      "[[1, 2, 3]\n",
      " [4, 5, 6]\n",
      " [7, 8, 9]]\n",
      "[[1, 1, 1]\n",
      " [2, 2, 2]\n",
      " [3, 3, 3]]\n",
      "[[10, 20]\n",
      " [30, 40]\n",
      " [50, 60]]\n"
     ]
    }
   ],
   "source": [
    "print(my_matrix1)\n",
    "print(my_matrix2)\n",
    "print(my_matrix3)"
   ]
  },
  {
   "cell_type": "code",
   "execution_count": 30,
   "metadata": {},
   "outputs": [
    {
     "name": "stdout",
     "output_type": "stream",
     "text": [
      "[[1, 2, 3], [4, 5, 6], [7, 8, 9]]\n",
      "(3, 2)\n",
      "True\n"
     ]
    }
   ],
   "source": [
    "print(my_matrix1.vectors)\n",
    "print(my_matrix3.shape)\n",
    "print(type(my_matrix1) == Matrix)"
   ]
  },
  {
   "cell_type": "code",
   "execution_count": 31,
   "metadata": {},
   "outputs": [],
   "source": [
    "result1 = my_matrix1 + my_matrix2\n",
    "result2 =  my_matrix1 + 100\n",
    "result3 = 200 + my_matrix1\n",
    "result4 = 1000 * my_matrix1\n",
    "result5 = my_matrix1 * 100\n",
    "result6 = my_matrix1 * my_matrix2\n",
    "result7 = my_matrix1 * my_matrix3\n",
    "result8 = my_matrix1 / 10\n",
    "result9 = my_matrix1 - my_matrix2\n",
    "result10 =  my_matrix1 - 100\n",
    "result11 = 200 - my_matrix1\n",
    "result12 = -my_matrix2\n",
    "result13 = (my_matrix1 * my_matrix2) == (my_matrix2 * my_matrix1)\n",
    "result14 = my_matrix1 != my_matrix2\n",
    "result15 = my_matrix1 + my_matrix2 == my_matrix2 + my_matrix1"
   ]
  },
  {
   "cell_type": "code",
   "execution_count": 33,
   "metadata": {},
   "outputs": [
    {
     "name": "stdout",
     "output_type": "stream",
     "text": [
      "result1 \n",
      "\n",
      " [[2, 3, 4]\n",
      " [6, 7, 8]\n",
      " [10, 11, 12]] \n",
      "\n",
      "result2 \n",
      "\n",
      " [[101, 102, 103]\n",
      " [104, 105, 106]\n",
      " [107, 108, 109]] \n",
      "\n",
      "result3 \n",
      "\n",
      " [[201, 202, 203]\n",
      " [204, 205, 206]\n",
      " [207, 208, 209]] \n",
      "\n",
      "result4 \n",
      "\n",
      " [[1000, 2000, 3000]\n",
      " [4000, 5000, 6000]\n",
      " [7000, 8000, 9000]] \n",
      "\n",
      "result5 \n",
      "\n",
      " [[100, 200, 300]\n",
      " [400, 500, 600]\n",
      " [700, 800, 900]] \n",
      "\n",
      "result6 \n",
      "\n",
      " [[14, 14, 14]\n",
      " [32, 32, 32]\n",
      " [50, 50, 50]] \n",
      "\n",
      "result7 \n",
      "\n",
      " [[220, 280]\n",
      " [490, 640]\n",
      " [760, 1000]] \n",
      "\n",
      "result8 \n",
      "\n",
      " [[0.1, 0.2, 0.30000000000000004]\n",
      " [0.4, 0.5, 0.6000000000000001]\n",
      " [0.7000000000000001, 0.8, 0.9]] \n",
      "\n",
      "result9 \n",
      "\n",
      " [[0, 1, 2]\n",
      " [2, 3, 4]\n",
      " [4, 5, 6]] \n",
      "\n",
      "result10 \n",
      "\n",
      " [[-99, -98, -97]\n",
      " [-96, -95, -94]\n",
      " [-93, -92, -91]] \n",
      "\n",
      "result11 \n",
      "\n",
      " [[199, 198, 197]\n",
      " [196, 195, 194]\n",
      " [193, 192, 191]] \n",
      "\n",
      "result12 \n",
      "\n",
      " [[-1, -1, -1]\n",
      " [-2, -2, -2]\n",
      " [-3, -3, -3]] \n",
      "\n",
      "result13 \n",
      "\n",
      " False \n",
      "\n",
      "result14 \n",
      "\n",
      " True \n",
      "\n"
     ]
    }
   ],
   "source": [
    "print('result1 \\n\\n', result1, '\\n')\n",
    "print('result2 \\n\\n', result2, '\\n')\n",
    "print('result3 \\n\\n', result3, '\\n')\n",
    "print('result4 \\n\\n', result4, '\\n')\n",
    "print('result5 \\n\\n', result5, '\\n')\n",
    "print('result6 \\n\\n', result6, '\\n')\n",
    "print('result7 \\n\\n', result7, '\\n')\n",
    "print('result8 \\n\\n', result8, '\\n')\n",
    "print('result9 \\n\\n', result9, '\\n')\n",
    "print('result10 \\n\\n', result10, '\\n')\n",
    "print('result11 \\n\\n', result11, '\\n')\n",
    "print('result12 \\n\\n', result12, '\\n')\n",
    "print('result13 \\n\\n', result13, '\\n')\n",
    "print('result14 \\n\\n', result14, '\\n')"
   ]
  },
  {
   "cell_type": "code",
   "execution_count": 34,
   "metadata": {
    "scrolled": false
   },
   "outputs": [
    {
     "name": "stdout",
     "output_type": "stream",
     "text": [
      "True\n",
      "True\n",
      "True\n",
      "True\n",
      "True\n",
      "True\n",
      "True\n",
      "True\n",
      "True\n",
      "True\n",
      "True\n",
      "True\n"
     ]
    }
   ],
   "source": [
    "print(type(result1) == Matrix)\n",
    "print(type(result2) == Matrix)\n",
    "print(type(result3) == Matrix)\n",
    "print(type(result4) == Matrix)\n",
    "print(type(result5) == Matrix)\n",
    "print(type(result6) == Matrix)\n",
    "print(type(result7) == Matrix)\n",
    "print(type(result8) == Matrix)\n",
    "print(type(result9) == Matrix)\n",
    "print(type(result10) == Matrix)\n",
    "print(type(result11) == Matrix)\n",
    "print(type(result12) == Matrix)"
   ]
  },
  {
   "cell_type": "code",
   "execution_count": 35,
   "metadata": {},
   "outputs": [
    {
     "ename": "AssertionError",
     "evalue": "Input must be either real number or matrix",
     "output_type": "error",
     "traceback": [
      "\u001b[1;31m---------------------------------------------------------------------------\u001b[0m",
      "\u001b[1;31mAssertionError\u001b[0m                            Traceback (most recent call last)",
      "\u001b[1;32m<ipython-input-35-496ae712a931>\u001b[0m in \u001b[0;36m<module>\u001b[1;34m\u001b[0m\n\u001b[1;32m----> 1\u001b[1;33m \u001b[0mmy_matrix1\u001b[0m \u001b[1;33m+\u001b[0m \u001b[1;34m'my_string'\u001b[0m \u001b[1;31m# error message\u001b[0m\u001b[1;33m\u001b[0m\u001b[1;33m\u001b[0m\u001b[0m\n\u001b[0m",
      "\u001b[1;32m<ipython-input-27-aec04f74418d>\u001b[0m in \u001b[0;36m__add__\u001b[1;34m(self, other)\u001b[0m\n\u001b[0;32m     18\u001b[0m \u001b[1;33m\u001b[0m\u001b[0m\n\u001b[0;32m     19\u001b[0m     \u001b[1;32mdef\u001b[0m \u001b[0m__add__\u001b[0m\u001b[1;33m(\u001b[0m\u001b[0mself\u001b[0m\u001b[1;33m,\u001b[0m \u001b[0mother\u001b[0m\u001b[1;33m)\u001b[0m\u001b[1;33m:\u001b[0m\u001b[1;33m\u001b[0m\u001b[1;33m\u001b[0m\u001b[0m\n\u001b[1;32m---> 20\u001b[1;33m         \u001b[1;32massert\u001b[0m \u001b[0misinstance\u001b[0m\u001b[1;33m(\u001b[0m\u001b[0mother\u001b[0m\u001b[1;33m,\u001b[0m \u001b[0mint\u001b[0m\u001b[1;33m)\u001b[0m \u001b[1;32mor\u001b[0m \u001b[0misinstance\u001b[0m\u001b[1;33m(\u001b[0m\u001b[0mother\u001b[0m\u001b[1;33m,\u001b[0m \u001b[0mfloat\u001b[0m\u001b[1;33m)\u001b[0m \u001b[1;32mor\u001b[0m \u001b[0misinstance\u001b[0m\u001b[1;33m(\u001b[0m\u001b[0mother\u001b[0m\u001b[1;33m,\u001b[0m \u001b[0mMatrix\u001b[0m\u001b[1;33m)\u001b[0m\u001b[1;33m,\u001b[0m\u001b[0;31m \u001b[0m\u001b[0;31m\\\u001b[0m\u001b[1;33m\u001b[0m\u001b[1;33m\u001b[0m\u001b[0m\n\u001b[0m\u001b[0;32m     21\u001b[0m         \u001b[1;34m'Input must be either real number or matrix'\u001b[0m\u001b[1;33m\u001b[0m\u001b[1;33m\u001b[0m\u001b[0m\n\u001b[0;32m     22\u001b[0m         \u001b[1;32mif\u001b[0m \u001b[0misinstance\u001b[0m\u001b[1;33m(\u001b[0m\u001b[0mother\u001b[0m\u001b[1;33m,\u001b[0m \u001b[0mint\u001b[0m\u001b[1;33m)\u001b[0m \u001b[1;32mor\u001b[0m \u001b[0misinstance\u001b[0m\u001b[1;33m(\u001b[0m\u001b[0mother\u001b[0m\u001b[1;33m,\u001b[0m \u001b[0mfloat\u001b[0m\u001b[1;33m)\u001b[0m \u001b[1;33m:\u001b[0m \u001b[1;31m##Real number\u001b[0m\u001b[1;33m\u001b[0m\u001b[1;33m\u001b[0m\u001b[0m\n",
      "\u001b[1;31mAssertionError\u001b[0m: Input must be either real number or matrix"
     ]
    }
   ],
   "source": [
    "my_matrix1 + 'my_string' # error message"
   ]
  },
  {
   "cell_type": "code",
   "execution_count": 36,
   "metadata": {},
   "outputs": [
    {
     "ename": "AssertionError",
     "evalue": "Row of first matrix do not match with column of second matrix",
     "output_type": "error",
     "traceback": [
      "\u001b[1;31m---------------------------------------------------------------------------\u001b[0m",
      "\u001b[1;31mAssertionError\u001b[0m                            Traceback (most recent call last)",
      "\u001b[1;32m<ipython-input-36-4cfc2b85811f>\u001b[0m in \u001b[0;36m<module>\u001b[1;34m\u001b[0m\n\u001b[1;32m----> 1\u001b[1;33m \u001b[0mmy_matrix3\u001b[0m \u001b[1;33m*\u001b[0m \u001b[0mmy_matrix2\u001b[0m \u001b[1;31m# error message\u001b[0m\u001b[1;33m\u001b[0m\u001b[1;33m\u001b[0m\u001b[0m\n\u001b[0m",
      "\u001b[1;32m<ipython-input-27-aec04f74418d>\u001b[0m in \u001b[0;36m__mul__\u001b[1;34m(self, other)\u001b[0m\n\u001b[0;32m     53\u001b[0m             \u001b[1;32mreturn\u001b[0m \u001b[0mMatrix\u001b[0m\u001b[1;33m(\u001b[0m\u001b[0mresult\u001b[0m\u001b[1;33m)\u001b[0m\u001b[1;33m\u001b[0m\u001b[1;33m\u001b[0m\u001b[0m\n\u001b[0;32m     54\u001b[0m         \u001b[1;32melse\u001b[0m \u001b[1;33m:\u001b[0m \u001b[1;31m##Matrix\u001b[0m\u001b[1;33m\u001b[0m\u001b[1;33m\u001b[0m\u001b[0m\n\u001b[1;32m---> 55\u001b[1;33m             \u001b[1;32massert\u001b[0m \u001b[0mother\u001b[0m\u001b[1;33m.\u001b[0m\u001b[0mshape\u001b[0m\u001b[1;33m[\u001b[0m\u001b[1;36m0\u001b[0m\u001b[1;33m]\u001b[0m \u001b[1;33m==\u001b[0m \u001b[0mself\u001b[0m\u001b[1;33m.\u001b[0m\u001b[0mshape\u001b[0m\u001b[1;33m[\u001b[0m\u001b[1;36m1\u001b[0m\u001b[1;33m]\u001b[0m\u001b[1;33m,\u001b[0m \u001b[1;34m'Row of first matrix do not match with column of second matrix'\u001b[0m\u001b[1;33m\u001b[0m\u001b[1;33m\u001b[0m\u001b[0m\n\u001b[0m\u001b[0;32m     56\u001b[0m             \u001b[0mresult\u001b[0m \u001b[1;33m=\u001b[0m \u001b[1;33m[\u001b[0m\u001b[1;33m]\u001b[0m\u001b[1;33m\u001b[0m\u001b[1;33m\u001b[0m\u001b[0m\n\u001b[0;32m     57\u001b[0m             \u001b[1;32mfor\u001b[0m \u001b[0mi\u001b[0m \u001b[1;32min\u001b[0m \u001b[0mrange\u001b[0m\u001b[1;33m(\u001b[0m\u001b[0mself\u001b[0m\u001b[1;33m.\u001b[0m\u001b[0mshape\u001b[0m\u001b[1;33m[\u001b[0m\u001b[1;36m0\u001b[0m\u001b[1;33m]\u001b[0m\u001b[1;33m)\u001b[0m \u001b[1;33m:\u001b[0m\u001b[1;33m\u001b[0m\u001b[1;33m\u001b[0m\u001b[0m\n",
      "\u001b[1;31mAssertionError\u001b[0m: Row of first matrix do not match with column of second matrix"
     ]
    }
   ],
   "source": [
    "my_matrix3 * my_matrix2 # error message"
   ]
  },
  {
   "cell_type": "code",
   "execution_count": 37,
   "metadata": {},
   "outputs": [
    {
     "ename": "AssertionError",
     "evalue": "Shape of two matrix do not match each other",
     "output_type": "error",
     "traceback": [
      "\u001b[1;31m---------------------------------------------------------------------------\u001b[0m",
      "\u001b[1;31mAssertionError\u001b[0m                            Traceback (most recent call last)",
      "\u001b[1;32m<ipython-input-37-d008cdcc7f3a>\u001b[0m in \u001b[0;36m<module>\u001b[1;34m\u001b[0m\n\u001b[1;32m----> 1\u001b[1;33m \u001b[0mmy_matrix1\u001b[0m \u001b[1;33m+\u001b[0m \u001b[0mmy_matrix3\u001b[0m \u001b[1;31m# error message\u001b[0m\u001b[1;33m\u001b[0m\u001b[1;33m\u001b[0m\u001b[0m\n\u001b[0m",
      "\u001b[1;32m<ipython-input-27-aec04f74418d>\u001b[0m in \u001b[0;36m__add__\u001b[1;34m(self, other)\u001b[0m\n\u001b[0;32m     29\u001b[0m             \u001b[1;32mreturn\u001b[0m \u001b[0mMatrix\u001b[0m\u001b[1;33m(\u001b[0m\u001b[0mresult\u001b[0m\u001b[1;33m)\u001b[0m\u001b[1;33m\u001b[0m\u001b[1;33m\u001b[0m\u001b[0m\n\u001b[0;32m     30\u001b[0m         \u001b[1;32melse\u001b[0m \u001b[1;33m:\u001b[0m \u001b[1;31m##Matrix\u001b[0m\u001b[1;33m\u001b[0m\u001b[1;33m\u001b[0m\u001b[0m\n\u001b[1;32m---> 31\u001b[1;33m             \u001b[1;32massert\u001b[0m \u001b[0mother\u001b[0m\u001b[1;33m.\u001b[0m\u001b[0mshape\u001b[0m \u001b[1;33m==\u001b[0m \u001b[0mself\u001b[0m\u001b[1;33m.\u001b[0m\u001b[0mshape\u001b[0m\u001b[1;33m,\u001b[0m \u001b[1;34m'Shape of two matrix do not match each other'\u001b[0m\u001b[1;33m\u001b[0m\u001b[1;33m\u001b[0m\u001b[0m\n\u001b[0m\u001b[0;32m     32\u001b[0m             \u001b[0mresult\u001b[0m \u001b[1;33m=\u001b[0m \u001b[1;33m[\u001b[0m\u001b[1;33m]\u001b[0m\u001b[1;33m\u001b[0m\u001b[1;33m\u001b[0m\u001b[0m\n\u001b[0;32m     33\u001b[0m             \u001b[1;32mfor\u001b[0m \u001b[0mi\u001b[0m \u001b[1;32min\u001b[0m \u001b[0mrange\u001b[0m\u001b[1;33m(\u001b[0m\u001b[0mself\u001b[0m\u001b[1;33m.\u001b[0m\u001b[0mshape\u001b[0m\u001b[1;33m[\u001b[0m\u001b[1;36m0\u001b[0m\u001b[1;33m]\u001b[0m\u001b[1;33m)\u001b[0m \u001b[1;33m:\u001b[0m\u001b[1;33m\u001b[0m\u001b[1;33m\u001b[0m\u001b[0m\n",
      "\u001b[1;31mAssertionError\u001b[0m: Shape of two matrix do not match each other"
     ]
    }
   ],
   "source": [
    "my_matrix1 + my_matrix3 # error message"
   ]
  },
  {
   "cell_type": "markdown",
   "metadata": {},
   "source": [
    "### Describe and Discuss your answer: "
   ]
  },
  {
   "cell_type": "markdown",
   "metadata": {},
   "source": [
    "__init__ constructor에서 row vectors와 shape을 결정해주었다.\n",
    "__str__ 에서 numpy의 출력과 동일한 모습을 보이기 위해 '' 뒤의 각 요소들이 나올 때 마다 띄어쓰기를 넣어주었다.\n",
    " __len__ 에서는 정의에 의해 row vector의 개수를 반환하도록하였다. \n",
    "__add__ 에는 더하고자 하는 값이 실수일 때와 행렬일 때를 나누어 주었다. 실수일 때는 모든 요소에 그 실수를 더해준 값이 나오도록 하였고 matrix일 때에는 shape가 일치하는지 확인한 뒤 일치할 때에만 같은 위치의 요소들끼리 더한 값의 행렬을 반환하도록 하였다. 일치하지 않을 때에는 그에 맞는 에러메세지를 반환한다. \n",
    "__radd__ 에는 행렬과 실수의 덧셈과 행렬간의 덧셈이 교환법칙이 성립하므로 바로 앞에 정의한 add를 사용해주었다. \n",
    "__mul__ 의 경우에도 실수일 때와 행렬일 때를 나눈 뒤 실수일 때는 모든 요소에 그 실수를 곱해준 값이 나오도록 하였고 행렬일 때는 앞의 행렬의 열 개수와 뒤의 행렬의 행 개수가 같은지 확인한 뒤 같을 때에만 행렬간의 곱셈을 해주었다. 결과로 나오는 행렬의 i행 j열의 요소는 앞의 행렬의 i번째 행 원소들로 구성된 벡터와 뒤의 행렬의 j번째 열 원소들로 구성된 벡터를 내적한값으로 나오도록 하였다. \n",
    "__rmul__ 의 경우 행렬과 실수의 곱셈의 경우 교환법칙이 성립하므로 mul을 사용해주었다. 그러나 행렬간의 곱셈은 교환법칙이 성립하지 않으므로 다시 앞의 행렬과 뒤의 행렬을 기준으로 정의해주었다.\n",
    "__neg__ 에서는 앞에서 정의한 실수와 행렬과의 곱셈을 이용하여 (-1) 을 곱해준 값을 반환해주었다.\n",
    "__sub__ 에서는 앞에서 정의한 neg와 add 를 이용하여 other값의 음수를 취한 것을 더해준 값을 반환해주었다.\n",
    "__rsub__ 에서는 뒤에 오게되는 self에 음수를 취해준 값을 더해주었다.\n",
    "__truediv__ 나누려는 값이 실수인지를 확인한 뒤 실수의 역수를 곱해주었다.\n",
    "__eq__ 는 먼저 행렬인지 확인하고 shape가 같은지 확인한 뒤 모든 위치의 요소가 같은지 확인해 주었다. 모두 같을시에만 True를 반환하고 하나라도 틀리면 False를 반환하도록하였다.\n",
    "__ne__ 위에서 정의한 __eq__ 의 반환값의 not을 취한 값을 반환하도록 하였다.\n",
    "결과에서 볼 수 있듯이 정의한 Matrix의 attribute인 vecotrs와 shape이 잘 나온다. 또한 Matrix의 string값과 연산결과가 잘 나오는 것을 확인할 수 있다. Matrix간 일치여부도 잘 나온다.또한 모든 결과가 type이 Matrix로 잘 나오는 것을 볼 수 있다. string을 더하거나 Matrix간의 곱셈이나 덧셈이 불가능한 경우도 각각의 에러사유가 잘 나오는 것을 볼 수 있다.\n",
    "2번 문제에서 볼 수 있겠지만 Vector class가 Matrix class를 상속받아야 하기 때문에 최대한 메소드에서 operator을 사용해주는 것을 확인할 수 있다."
   ]
  },
  {
   "cell_type": "markdown",
   "metadata": {},
   "source": [
    "-------------------------------"
   ]
  },
  {
   "cell_type": "markdown",
   "metadata": {},
   "source": [
    "### PROBLEM II - Inheritance (20 POINTS)"
   ]
  },
  {
   "cell_type": "markdown",
   "metadata": {},
   "source": [
    "아래의 조건을 만족하는 ```Vector``` class를 완성하시오."
   ]
  },
  {
   "cell_type": "markdown",
   "metadata": {},
   "source": [
    "### Conditions\n",
    "\n",
    "1. Length가 1인 2-dimesional list를 argument로 하며, row vector만 표현하도록 한다.\n",
    "> 예를 들어, 1, 2, 3을 원소로 하는 벡터는 ```Vector([[1, 2, 3]])```으로 표현한다.  \n",
    "2. __PROBLEM I__ 의 ```Matrix``` class를 상속받아야 한다.\n",
    "3. ```Vector``` class의 object는 다음을 만족해야 한다.\n",
    "> 1) ```*```연산자로 벡터 간 내적 및 실수와의 곱셈이 가능하다.  \n",
    "> 2) ```Matrix``` class의 object에서 가능한 모든 연산은 ```Vector```  class의 object에서도 가능하다.  \n",
    "> 3) 연산이 불가능한 경우 error message를 출력한다.  \n",
    "> 4) 내적과 비교를 제외한 모든 연산의 결과는 ```Vector``` class여야 한다. 즉, ```(type(result_vector) == Vector) = True``` 이다.\n",
    "\n",
    "\n",
    "### Note\n",
    "* _1. Numpy를 비롯한 외부 라이브러리는 사용하지 않는다. (사용 시 해당 문항 0점)_\n",
    "* ```__add__```와 ```__mul__``` 이외의 연산은 ```Vector``` class에서 overload할 수 없다. (명시한 operator 이외의 operator를 ```Vector``` class에서 overload 시 해당 문항 0점) \n",
    "\n",
    "### Hint\n",
    "* n차원 행 벡터(row vector)는 $1 \\times n$ 행렬로 생각할 수 있다."
   ]
  },
  {
   "cell_type": "code",
   "execution_count": 38,
   "metadata": {},
   "outputs": [],
   "source": [
    "class Vector(Matrix):\n",
    "    def __init__(self, vectors):\n",
    "        assert isinstance(vectors, list), 'Input argument must be a list.'\n",
    "        assert len(vectors) == 1, 'Input must be row vector'\n",
    "        assert isinstance(vectors[0], list), 'Row vector must be a list.'\n",
    "        self.vectors = vectors\n",
    "        self.shape = (len(vectors), len(vectors[0])) \n",
    "    \n",
    "    def __mul__(self, other):\n",
    "        assert isinstance(other, Vector) or isinstance(other,int) or isinstance(other,float), \\\n",
    "        'Input must be real number or vector type'\n",
    "        if isinstance(other,int) or isinstance(other,float) : ## Real number\n",
    "            result = []\n",
    "            temp = []\n",
    "            for i in range(self.shape[1]) :\n",
    "                temp.append(self.vectors[0][i] * other)\n",
    "            result.append(temp)\n",
    "            return Vector(result)\n",
    "        else : ## Vector\n",
    "            assert self.shape == other.shape, 'Length of two vector do not match each other'\n",
    "            sum = 0\n",
    "            for i in range(self.shape[1]) :\n",
    "                sum += (self.vectors[0][i] * other.vectors[0][i])\n",
    "            return sum\n",
    "    def __add__(self, other):\n",
    "        assert isinstance(other, int) or isinstance(other, float) or isinstance(other, Vector), \\\n",
    "        'Input must be either real number or vector type'\n",
    "        if isinstance(other, int) or isinstance(other, float) : ##Real number\n",
    "            result = []\n",
    "            temp = []\n",
    "            for i in range(self.shape[1]) :\n",
    "                temp.append(self.vectors[0][i]+ other)\n",
    "            result.append(temp)    \n",
    "            return Vector(result)\n",
    "        else : ##Vector\n",
    "            assert other.shape == self.shape, 'Length of two vector do not match each other'\n",
    "            result = []\n",
    "            temp = []\n",
    "            for i in range(self.shape[1]) :\n",
    "                temp.append(self.vectors[0][i] + other.vectors[0][i])\n",
    "            result.append(temp)\n",
    "            return Vector(result)\n",
    "        \n",
    "    \n",
    "    ### CODE HERE ###\n",
    "    # You can implement __add__ if you need. \n",
    "    # All other methods must be inherited from Matrix class.\n",
    "    #################\n",
    "    "
   ]
  },
  {
   "cell_type": "code",
   "execution_count": 39,
   "metadata": {},
   "outputs": [
    {
     "ename": "AssertionError",
     "evalue": "Input must be row vector",
     "output_type": "error",
     "traceback": [
      "\u001b[1;31m---------------------------------------------------------------------------\u001b[0m",
      "\u001b[1;31mAssertionError\u001b[0m                            Traceback (most recent call last)",
      "\u001b[1;32m<ipython-input-39-3bc84817bcb1>\u001b[0m in \u001b[0;36m<module>\u001b[1;34m\u001b[0m\n\u001b[1;32m----> 1\u001b[1;33m \u001b[0mvector\u001b[0m \u001b[1;33m=\u001b[0m \u001b[0mVector\u001b[0m\u001b[1;33m(\u001b[0m\u001b[1;33m[\u001b[0m\u001b[1;36m1\u001b[0m\u001b[1;33m,\u001b[0m \u001b[1;36m2\u001b[0m\u001b[1;33m,\u001b[0m \u001b[1;36m3\u001b[0m\u001b[1;33m]\u001b[0m\u001b[1;33m)\u001b[0m \u001b[1;31m# error message\u001b[0m\u001b[1;33m\u001b[0m\u001b[1;33m\u001b[0m\u001b[0m\n\u001b[0m",
      "\u001b[1;32m<ipython-input-38-2809efedff8a>\u001b[0m in \u001b[0;36m__init__\u001b[1;34m(self, vectors)\u001b[0m\n\u001b[0;32m      2\u001b[0m     \u001b[1;32mdef\u001b[0m \u001b[0m__init__\u001b[0m\u001b[1;33m(\u001b[0m\u001b[0mself\u001b[0m\u001b[1;33m,\u001b[0m \u001b[0mvectors\u001b[0m\u001b[1;33m)\u001b[0m\u001b[1;33m:\u001b[0m\u001b[1;33m\u001b[0m\u001b[1;33m\u001b[0m\u001b[0m\n\u001b[0;32m      3\u001b[0m         \u001b[1;32massert\u001b[0m \u001b[0misinstance\u001b[0m\u001b[1;33m(\u001b[0m\u001b[0mvectors\u001b[0m\u001b[1;33m,\u001b[0m \u001b[0mlist\u001b[0m\u001b[1;33m)\u001b[0m\u001b[1;33m,\u001b[0m \u001b[1;34m'Input argument must be a list.'\u001b[0m\u001b[1;33m\u001b[0m\u001b[1;33m\u001b[0m\u001b[0m\n\u001b[1;32m----> 4\u001b[1;33m         \u001b[1;32massert\u001b[0m \u001b[0mlen\u001b[0m\u001b[1;33m(\u001b[0m\u001b[0mvectors\u001b[0m\u001b[1;33m)\u001b[0m \u001b[1;33m==\u001b[0m \u001b[1;36m1\u001b[0m\u001b[1;33m,\u001b[0m \u001b[1;34m'Input must be row vector'\u001b[0m\u001b[1;33m\u001b[0m\u001b[1;33m\u001b[0m\u001b[0m\n\u001b[0m\u001b[0;32m      5\u001b[0m         \u001b[1;32massert\u001b[0m \u001b[0misinstance\u001b[0m\u001b[1;33m(\u001b[0m\u001b[0mvectors\u001b[0m\u001b[1;33m[\u001b[0m\u001b[1;36m0\u001b[0m\u001b[1;33m]\u001b[0m\u001b[1;33m,\u001b[0m \u001b[0mlist\u001b[0m\u001b[1;33m)\u001b[0m\u001b[1;33m,\u001b[0m \u001b[1;34m'Row vector must be a list.'\u001b[0m\u001b[1;33m\u001b[0m\u001b[1;33m\u001b[0m\u001b[0m\n\u001b[0;32m      6\u001b[0m         \u001b[0mself\u001b[0m\u001b[1;33m.\u001b[0m\u001b[0mvectors\u001b[0m \u001b[1;33m=\u001b[0m \u001b[0mvectors\u001b[0m\u001b[1;33m\u001b[0m\u001b[1;33m\u001b[0m\u001b[0m\n",
      "\u001b[1;31mAssertionError\u001b[0m: Input must be row vector"
     ]
    }
   ],
   "source": [
    "vector = Vector([1, 2, 3]) # error message"
   ]
  },
  {
   "cell_type": "code",
   "execution_count": 40,
   "metadata": {},
   "outputs": [],
   "source": [
    "my_vector1 = Vector([[1, 2, 3]])\n",
    "my_vector2 = Vector([[400, 500, 600]])\n",
    "my_vector3 = Vector([[1, 2]])"
   ]
  },
  {
   "cell_type": "code",
   "execution_count": 41,
   "metadata": {},
   "outputs": [
    {
     "name": "stdout",
     "output_type": "stream",
     "text": [
      "[[1, 2, 3]]\n",
      "[[400, 500, 600]]\n",
      "[[1, 2]]\n"
     ]
    }
   ],
   "source": [
    "print(my_vector1)\n",
    "print(my_vector2)\n",
    "print(my_vector3)"
   ]
  },
  {
   "cell_type": "code",
   "execution_count": 42,
   "metadata": {},
   "outputs": [
    {
     "name": "stdout",
     "output_type": "stream",
     "text": [
      "[[1, 2, 3]]\n",
      "(1, 3)\n",
      "True\n"
     ]
    }
   ],
   "source": [
    "print(my_vector1.vectors)\n",
    "print(my_vector2.shape)\n",
    "print(type(my_vector3) == Vector)"
   ]
  },
  {
   "cell_type": "code",
   "execution_count": 43,
   "metadata": {},
   "outputs": [],
   "source": [
    "result1 = my_vector1 + my_vector2\n",
    "result2 =  my_vector1 + 100\n",
    "result3 = 200 + my_vector1\n",
    "result4 = 1000 * my_vector1\n",
    "result5 = my_vector3 * 100\n",
    "result6 = my_vector1 * my_vector2\n",
    "result7 = my_vector2 * my_vector1\n",
    "result8 = my_vector2 / 10\n",
    "result9 = my_vector2 - my_vector1\n",
    "result10 =  my_vector2 - 100\n",
    "result11 = 200 - my_vector2\n",
    "result12 = -my_vector1\n",
    "result13 = my_vector1 == my_vector2\n",
    "result14 = my_vector1 != my_vector2"
   ]
  },
  {
   "cell_type": "code",
   "execution_count": 44,
   "metadata": {},
   "outputs": [
    {
     "name": "stdout",
     "output_type": "stream",
     "text": [
      "result1 \n",
      "\n",
      " [[401, 502, 603]] \n",
      "\n",
      "result2 \n",
      "\n",
      " [[101, 102, 103]] \n",
      "\n",
      "result3 \n",
      "\n",
      " [[201, 202, 203]] \n",
      "\n",
      "result4 \n",
      "\n",
      " [[1000, 2000, 3000]] \n",
      "\n",
      "result5 \n",
      "\n",
      " [[100, 200]] \n",
      "\n",
      "result6 \n",
      "\n",
      " 3200 \n",
      "\n",
      "result7 \n",
      "\n",
      " 3200 \n",
      "\n",
      "result8 \n",
      "\n",
      " [[40.0, 50.0, 60.0]] \n",
      "\n",
      "result9 \n",
      "\n",
      " [[399, 498, 597]] \n",
      "\n",
      "result10 \n",
      "\n",
      " [[300, 400, 500]] \n",
      "\n",
      "result11 \n",
      "\n",
      " [[-200, -300, -400]] \n",
      "\n",
      "result12 \n",
      "\n",
      " [[-1, -2, -3]] \n",
      "\n",
      "result13 \n",
      "\n",
      " False \n",
      "\n",
      "result14 \n",
      "\n",
      " True \n",
      "\n"
     ]
    }
   ],
   "source": [
    "print('result1 \\n\\n', result1, '\\n')\n",
    "print('result2 \\n\\n', result2, '\\n')\n",
    "print('result3 \\n\\n', result3, '\\n')\n",
    "print('result4 \\n\\n', result4, '\\n')\n",
    "print('result5 \\n\\n', result5, '\\n')\n",
    "print('result6 \\n\\n', result6, '\\n')\n",
    "print('result7 \\n\\n', result7, '\\n')\n",
    "print('result8 \\n\\n', result8, '\\n')\n",
    "print('result9 \\n\\n', result9, '\\n')\n",
    "print('result10 \\n\\n', result10, '\\n')\n",
    "print('result11 \\n\\n', result11, '\\n')\n",
    "print('result12 \\n\\n', result12, '\\n')\n",
    "print('result13 \\n\\n', result13, '\\n')\n",
    "print('result14 \\n\\n', result14, '\\n')"
   ]
  },
  {
   "cell_type": "code",
   "execution_count": 45,
   "metadata": {
    "scrolled": false
   },
   "outputs": [
    {
     "name": "stdout",
     "output_type": "stream",
     "text": [
      "True\n",
      "True\n",
      "True\n",
      "True\n",
      "True\n",
      "False\n",
      "False\n",
      "True\n",
      "True\n",
      "True\n",
      "True\n",
      "True\n"
     ]
    }
   ],
   "source": [
    "print(type(result1) == Vector)\n",
    "print(type(result2) == Vector)\n",
    "print(type(result3) == Vector)\n",
    "print(type(result4) == Vector)\n",
    "print(type(result5) == Vector)\n",
    "print(type(result6) == Vector)\n",
    "print(type(result7) == Vector)\n",
    "print(type(result8) == Vector)\n",
    "print(type(result9) == Vector)\n",
    "print(type(result10) == Vector)\n",
    "print(type(result11) == Vector)\n",
    "print(type(result12) == Vector)"
   ]
  },
  {
   "cell_type": "code",
   "execution_count": 46,
   "metadata": {},
   "outputs": [
    {
     "ename": "AssertionError",
     "evalue": "Input must be either real number or vector type",
     "output_type": "error",
     "traceback": [
      "\u001b[1;31m---------------------------------------------------------------------------\u001b[0m",
      "\u001b[1;31mAssertionError\u001b[0m                            Traceback (most recent call last)",
      "\u001b[1;32m<ipython-input-46-da9e7ef33227>\u001b[0m in \u001b[0;36m<module>\u001b[1;34m\u001b[0m\n\u001b[1;32m----> 1\u001b[1;33m \u001b[0mmy_vector1\u001b[0m \u001b[1;33m+\u001b[0m \u001b[1;34m'my_string'\u001b[0m \u001b[1;31m# error message\u001b[0m\u001b[1;33m\u001b[0m\u001b[1;33m\u001b[0m\u001b[0m\n\u001b[0m",
      "\u001b[1;32m<ipython-input-38-2809efedff8a>\u001b[0m in \u001b[0;36m__add__\u001b[1;34m(self, other)\u001b[0m\n\u001b[0;32m     24\u001b[0m             \u001b[1;32mreturn\u001b[0m \u001b[0msum\u001b[0m\u001b[1;33m\u001b[0m\u001b[1;33m\u001b[0m\u001b[0m\n\u001b[0;32m     25\u001b[0m     \u001b[1;32mdef\u001b[0m \u001b[0m__add__\u001b[0m\u001b[1;33m(\u001b[0m\u001b[0mself\u001b[0m\u001b[1;33m,\u001b[0m \u001b[0mother\u001b[0m\u001b[1;33m)\u001b[0m\u001b[1;33m:\u001b[0m\u001b[1;33m\u001b[0m\u001b[1;33m\u001b[0m\u001b[0m\n\u001b[1;32m---> 26\u001b[1;33m         \u001b[1;32massert\u001b[0m \u001b[0misinstance\u001b[0m\u001b[1;33m(\u001b[0m\u001b[0mother\u001b[0m\u001b[1;33m,\u001b[0m \u001b[0mint\u001b[0m\u001b[1;33m)\u001b[0m \u001b[1;32mor\u001b[0m \u001b[0misinstance\u001b[0m\u001b[1;33m(\u001b[0m\u001b[0mother\u001b[0m\u001b[1;33m,\u001b[0m \u001b[0mfloat\u001b[0m\u001b[1;33m)\u001b[0m \u001b[1;32mor\u001b[0m \u001b[0misinstance\u001b[0m\u001b[1;33m(\u001b[0m\u001b[0mother\u001b[0m\u001b[1;33m,\u001b[0m \u001b[0mVector\u001b[0m\u001b[1;33m)\u001b[0m\u001b[1;33m,\u001b[0m\u001b[0;31m \u001b[0m\u001b[0;31m\\\u001b[0m\u001b[1;33m\u001b[0m\u001b[1;33m\u001b[0m\u001b[0m\n\u001b[0m\u001b[0;32m     27\u001b[0m         \u001b[1;34m'Input must be either real number or vector type'\u001b[0m\u001b[1;33m\u001b[0m\u001b[1;33m\u001b[0m\u001b[0m\n\u001b[0;32m     28\u001b[0m         \u001b[1;32mif\u001b[0m \u001b[0misinstance\u001b[0m\u001b[1;33m(\u001b[0m\u001b[0mother\u001b[0m\u001b[1;33m,\u001b[0m \u001b[0mint\u001b[0m\u001b[1;33m)\u001b[0m \u001b[1;32mor\u001b[0m \u001b[0misinstance\u001b[0m\u001b[1;33m(\u001b[0m\u001b[0mother\u001b[0m\u001b[1;33m,\u001b[0m \u001b[0mfloat\u001b[0m\u001b[1;33m)\u001b[0m \u001b[1;33m:\u001b[0m \u001b[1;31m##Real number\u001b[0m\u001b[1;33m\u001b[0m\u001b[1;33m\u001b[0m\u001b[0m\n",
      "\u001b[1;31mAssertionError\u001b[0m: Input must be either real number or vector type"
     ]
    }
   ],
   "source": [
    "my_vector1 + 'my_string' # error message"
   ]
  },
  {
   "cell_type": "code",
   "execution_count": 47,
   "metadata": {},
   "outputs": [
    {
     "ename": "AssertionError",
     "evalue": "Length of two vector do not match each other",
     "output_type": "error",
     "traceback": [
      "\u001b[1;31m---------------------------------------------------------------------------\u001b[0m",
      "\u001b[1;31mAssertionError\u001b[0m                            Traceback (most recent call last)",
      "\u001b[1;32m<ipython-input-47-2d6bc9702e13>\u001b[0m in \u001b[0;36m<module>\u001b[1;34m\u001b[0m\n\u001b[1;32m----> 1\u001b[1;33m \u001b[0mmy_vector1\u001b[0m \u001b[1;33m+\u001b[0m \u001b[0mmy_vector3\u001b[0m \u001b[1;31m# error message\u001b[0m\u001b[1;33m\u001b[0m\u001b[1;33m\u001b[0m\u001b[0m\n\u001b[0m",
      "\u001b[1;32m<ipython-input-38-2809efedff8a>\u001b[0m in \u001b[0;36m__add__\u001b[1;34m(self, other)\u001b[0m\n\u001b[0;32m     34\u001b[0m             \u001b[1;32mreturn\u001b[0m \u001b[0mVector\u001b[0m\u001b[1;33m(\u001b[0m\u001b[0mresult\u001b[0m\u001b[1;33m)\u001b[0m\u001b[1;33m\u001b[0m\u001b[1;33m\u001b[0m\u001b[0m\n\u001b[0;32m     35\u001b[0m         \u001b[1;32melse\u001b[0m \u001b[1;33m:\u001b[0m \u001b[1;31m##Vector\u001b[0m\u001b[1;33m\u001b[0m\u001b[1;33m\u001b[0m\u001b[0m\n\u001b[1;32m---> 36\u001b[1;33m             \u001b[1;32massert\u001b[0m \u001b[0mother\u001b[0m\u001b[1;33m.\u001b[0m\u001b[0mshape\u001b[0m \u001b[1;33m==\u001b[0m \u001b[0mself\u001b[0m\u001b[1;33m.\u001b[0m\u001b[0mshape\u001b[0m\u001b[1;33m,\u001b[0m \u001b[1;34m'Length of two vector do not match each other'\u001b[0m\u001b[1;33m\u001b[0m\u001b[1;33m\u001b[0m\u001b[0m\n\u001b[0m\u001b[0;32m     37\u001b[0m             \u001b[0mresult\u001b[0m \u001b[1;33m=\u001b[0m \u001b[1;33m[\u001b[0m\u001b[1;33m]\u001b[0m\u001b[1;33m\u001b[0m\u001b[1;33m\u001b[0m\u001b[0m\n\u001b[0;32m     38\u001b[0m             \u001b[0mtemp\u001b[0m \u001b[1;33m=\u001b[0m \u001b[1;33m[\u001b[0m\u001b[1;33m]\u001b[0m\u001b[1;33m\u001b[0m\u001b[1;33m\u001b[0m\u001b[0m\n",
      "\u001b[1;31mAssertionError\u001b[0m: Length of two vector do not match each other"
     ]
    }
   ],
   "source": [
    "my_vector1 + my_vector3 # error message"
   ]
  },
  {
   "cell_type": "code",
   "execution_count": 48,
   "metadata": {
    "scrolled": true
   },
   "outputs": [
    {
     "ename": "AssertionError",
     "evalue": "Length of two vector do not match each other",
     "output_type": "error",
     "traceback": [
      "\u001b[1;31m---------------------------------------------------------------------------\u001b[0m",
      "\u001b[1;31mAssertionError\u001b[0m                            Traceback (most recent call last)",
      "\u001b[1;32m<ipython-input-48-68575e90c0e8>\u001b[0m in \u001b[0;36m<module>\u001b[1;34m\u001b[0m\n\u001b[1;32m----> 1\u001b[1;33m \u001b[0mmy_vector1\u001b[0m \u001b[1;33m*\u001b[0m \u001b[0mmy_vector3\u001b[0m \u001b[1;31m# error message\u001b[0m\u001b[1;33m\u001b[0m\u001b[1;33m\u001b[0m\u001b[0m\n\u001b[0m",
      "\u001b[1;32m<ipython-input-38-2809efedff8a>\u001b[0m in \u001b[0;36m__mul__\u001b[1;34m(self, other)\u001b[0m\n\u001b[0;32m     18\u001b[0m             \u001b[1;32mreturn\u001b[0m \u001b[0mVector\u001b[0m\u001b[1;33m(\u001b[0m\u001b[0mresult\u001b[0m\u001b[1;33m)\u001b[0m\u001b[1;33m\u001b[0m\u001b[1;33m\u001b[0m\u001b[0m\n\u001b[0;32m     19\u001b[0m         \u001b[1;32melse\u001b[0m \u001b[1;33m:\u001b[0m \u001b[1;31m## Vector\u001b[0m\u001b[1;33m\u001b[0m\u001b[1;33m\u001b[0m\u001b[0m\n\u001b[1;32m---> 20\u001b[1;33m             \u001b[1;32massert\u001b[0m \u001b[0mself\u001b[0m\u001b[1;33m.\u001b[0m\u001b[0mshape\u001b[0m \u001b[1;33m==\u001b[0m \u001b[0mother\u001b[0m\u001b[1;33m.\u001b[0m\u001b[0mshape\u001b[0m\u001b[1;33m,\u001b[0m \u001b[1;34m'Length of two vector do not match each other'\u001b[0m\u001b[1;33m\u001b[0m\u001b[1;33m\u001b[0m\u001b[0m\n\u001b[0m\u001b[0;32m     21\u001b[0m             \u001b[0msum\u001b[0m \u001b[1;33m=\u001b[0m \u001b[1;36m0\u001b[0m\u001b[1;33m\u001b[0m\u001b[1;33m\u001b[0m\u001b[0m\n\u001b[0;32m     22\u001b[0m             \u001b[1;32mfor\u001b[0m \u001b[0mi\u001b[0m \u001b[1;32min\u001b[0m \u001b[0mrange\u001b[0m\u001b[1;33m(\u001b[0m\u001b[0mself\u001b[0m\u001b[1;33m.\u001b[0m\u001b[0mshape\u001b[0m\u001b[1;33m[\u001b[0m\u001b[1;36m1\u001b[0m\u001b[1;33m]\u001b[0m\u001b[1;33m)\u001b[0m \u001b[1;33m:\u001b[0m\u001b[1;33m\u001b[0m\u001b[1;33m\u001b[0m\u001b[0m\n",
      "\u001b[1;31mAssertionError\u001b[0m: Length of two vector do not match each other"
     ]
    }
   ],
   "source": [
    "my_vector1 * my_vector3 # error message"
   ]
  },
  {
   "cell_type": "markdown",
   "metadata": {},
   "source": [
    "### Describe and Discuss your answer: \n"
   ]
  },
  {
   "cell_type": "markdown",
   "metadata": {},
   "source": [
    "조건에 따라 Matrix class를 상속하는 Vector class를 구현하였다.\n",
    "__init__ 의 경우 self가 row vector인지 확인한 뒤 row vector 가 아닐 경우 그에 맞는 에러메세지가 출력되도록 하였다.\n",
    "__mul__ 의 경우 Matrix와 다르게 내적한 값을 내야하므로 따로 overload해주었다. 실수와의 곱일 때와 벡터 끼리의 곱일 때로 나누어주었다. 실수와의 곱일 때에는 각 요소에 그 실수값을 곱해준 벡터가 나오도록 구현하였다. 벡터끼리의 곱은 내적으로 간주하였다. 내적의 정의에 맞게 row vector의 같은 위치의 요소끼리의 곱의 합을 출력해주었다. 이때 내적의 결과값은 행렬이 아닌 실수임을 인지하였다.\n",
    "__add__ 의 경우 제가 구현한 Matrix class에서는 행렬간의 덧셈에서 결과값의 type이 Matrix이므로 Vector가 출력되도록 구현해주었다. Matrix class 때와 마찬가지로 경우를 실수일 때와 벡터일 때로 나누어주었다.\n",
    "나머지 메소드들은 모두 Matrix 클래스에서 상속받았다. 나머지 연산 메소드들은 Matrix에서 add나 mul을 사용하여 구현하였기 때문에 나머지 연산들의 결과도 모두 type 이 Vector로 나올 것으로 예상할 수 있다.\n",
    "실제로 벡터를 정의해준 뒤 스트링, 연산결과, 벡터끼리의 일치여부 모두 잘 나오는 것을 확인할 수 있다. type 또한 중간의 내적 결과로 나오는 것을 제외하고 모두 type이 Vector임을 알 수 있다. 마지막으로 실수나 벡터와의 합이 아닌경우나 길이가 같지 않은 벡터끼리의 연산에서 각각 맞는 에러 메세지가 잘 출력되는 것을 확인할 수 있다."
   ]
  },
  {
   "cell_type": "markdown",
   "metadata": {},
   "source": [
    "-------------------------------"
   ]
  },
  {
   "cell_type": "markdown",
   "metadata": {},
   "source": [
    "### PROBLEM III (15 POINTS)"
   ]
  },
  {
   "cell_type": "markdown",
   "metadata": {},
   "source": [
    "```Vector``` class의 object 간 연산과 numpy vector 간 연산을 비교하는 실험을 설계하시오.\n",
    "\n",
    "### Conditions\n",
    "\n",
    "1. __PROBLEM II__에서 ```Vector``` object 간 덧셈, 내적을 구현하였다. 각 연산의 time complexity를 big $\\mathcal{O}$ notation을 이용하여 분석하시오.\n",
    "2. ```Vector``` object 간 덧셈, 내적의 time complexity와 numpy vector 간 덧셈, 내적의 time complexity를 비교하는 실험을 설계하시오.\n",
    "3. __1__에서 분석한 결과와 __2__의 실험 결과를 비교하시오.\n",
    "\n",
    "### Note\n",
    "* __PROBLEM II__에서 ```Vector``` class를 구현하지 못한 경우, 아래의 함수를 정의하여 사용하는 것은 허용한다. **단, 이 경우에도 numpy를 비롯한 외부 라이브러리는 사용하지 않는다. (_사용 시 해당 문항 0점_)**"
   ]
  },
  {
   "cell_type": "markdown",
   "metadata": {},
   "source": [
    "### Parameters for figure (optional)\n",
    "\n",
    "```\n",
    "iterations: 500\n",
    "\n",
    "plt.figure(figsize=(20, 15))\n",
    "\n",
    "plt.xlabel('$n$', fontsize=20)\n",
    "plt.ylabel('elapsed time', fontsize=20)\n",
    "plt.legend(['vector sum. (ours)', 'vector mul. (ours)', 'vector sum. (numpy)', 'vector mul. (numpy)'], loc='best', fontsize=15)\n",
    "```"
   ]
  },
  {
   "cell_type": "code",
   "execution_count": null,
   "metadata": {},
   "outputs": [],
   "source": [
    "# If you fail to implement the Vector class you can define the operations for the experiments.\n",
    "# But, libraries like numpy are not allowed (use python list).\n",
    "\n",
    "# def vector_summation(vector1, vector2):\n",
    "#     ### CODE HERE ###\n",
    "#     #################\n",
    "\n",
    "# def vector_multiplication(vector1, vector2):\n",
    "#     ### CODE HERE ###\n",
    "#     #################"
   ]
  },
  {
   "cell_type": "code",
   "execution_count": 49,
   "metadata": {
    "scrolled": false
   },
   "outputs": [
    {
     "data": {
      "text/plain": [
       "<matplotlib.legend.Legend at 0x25bcae906a0>"
      ]
     },
     "execution_count": 49,
     "metadata": {},
     "output_type": "execute_result"
    },
    {
     "data": {
      "image/png": "[encoded data removed]",
      "text/plain": [
       "<Figure size 1440x1080 with 1 Axes>"
      ]
     },
     "metadata": {
      "needs_background": "light"
     },
     "output_type": "display_data"
    }
   ],
   "source": [
    "### CODE HERE ###\n",
    "import time\n",
    "import numpy as np\n",
    "import matplotlib.pyplot as plt\n",
    "import random\n",
    "\n",
    "## time spent in each computation \"Y-axis\"\n",
    "vec_sum_ours = []\n",
    "vec_mul_ours = []\n",
    "vec_sum_np = []\n",
    "vec_mul_np = []\n",
    "\n",
    "for n in range(500) :\n",
    "    ## Defining random vector each element in range of (-100,100)\n",
    "    example = []\n",
    "    for num in range(n+1) :\n",
    "        example.append(random.uniform(-100, 100))\n",
    "    example1 = []\n",
    "    example1.append(example)\n",
    "    \n",
    "    ## Vector used in computation\n",
    "    a = Vector(example1)\n",
    "    b = Vector(example1)\n",
    "    c = np.array(example)\n",
    "    d = np.array(example)\n",
    "    \n",
    "    ## time spent in addition of ours\n",
    "    start1 = time.time()\n",
    "    ans1 = a + b\n",
    "    t1 = time.time() - start1\n",
    "    vec_sum_ours.append(t1)\n",
    "    \n",
    "    ## time spent in multiplication of ours\n",
    "    start2 = time.time()\n",
    "    ans2 = a * b\n",
    "    t2 = time.time() - start2\n",
    "    vec_mul_ours.append(t2)\n",
    "    \n",
    "    ## time spent in addition of numpy\n",
    "    start3 = time.time()\n",
    "    ans3 = c + d\n",
    "    t3 = time.time() - start3\n",
    "    vec_sum_np.append(t3)\n",
    "    \n",
    "    ## time spent in multiplication of numpy\n",
    "    start4 = time.time()\n",
    "    ans4 = np.dot(c,d)\n",
    "    t4 = time.time() - start4\n",
    "    vec_mul_np.append(t4)\n",
    "    \n",
    "## n \"X-axis\"\n",
    "x_axis = [num+1 for num in range(500)]\n",
    "\n",
    "## Plot using given parameters for figure\n",
    "plt.figure(figsize=(20, 15))\n",
    "\n",
    "plt.plot(x_axis,vec_sum_ours)\n",
    "plt.plot(x_axis,vec_mul_ours)\n",
    "plt.plot(x_axis,vec_sum_np)\n",
    "plt.plot(x_axis,vec_mul_np)\n",
    "\n",
    "plt.xlabel('$n$', fontsize=20)\n",
    "plt.ylabel('elapsed time', fontsize=20)\n",
    "plt.legend(['vector sum. (ours)', 'vector mul. (ours)', 'vector sum. (numpy)', 'vector mul. (numpy)'], loc='best', fontsize=15)"
   ]
  },
  {
   "cell_type": "markdown",
   "metadata": {},
   "source": [
    "### Describe your answer: \n"
   ]
  },
  {
   "cell_type": "markdown",
   "metadata": {},
   "source": [
    "먼저 구현에 필요한 time, numpy, matplotlib.pyplot, random 모듈을 import 해주었다. 이 때 random 모듈은 계산에 사용되는 벡터를 임의로 뽑기 위해 사용하였다. 먼저 y축에 해당하는 소요된 시간을 담는 리스트를 4개의 연산에 있어 모두 생성해준다. 그 뒤 Vector의 length를 1부터 500까지 키워가면서 각각의 연산에 소요되는 시간을 측정해 주었다. 시간측정을 위해 수업시간에 배운 time모듈의 time 함수를 사용하였다. 연산 시작 전 시간을 측정한 뒤 연산이 끝난 직후의 시간과의 차를 계산해주는 방식을 채택하였다. 그 뒤 그 시간을 각 계산의 리스트에 append 해주었다. 500까지 모두 측정한 뒤 x축에 해당하는 리스트를 만든 뒤 plt를 이용하여 그래프를 그려주었다. 이때 parameter들은 문제에서 주어진대로 사용하였다.\n",
    "그래프를 전체적으로 보면 numpy에 비해 우리가 구현한 코드에서의 계산이 압도적으로 오래걸리는 것을 알 수 있다. 이는 numpy 패키지는 C, C++, Fortan codes 를 통합하여 사용하는데 이 언어들은 Python에 비해 연산속도가 매우 빠르기 때문이다.\n",
    "우리의 코드의 time complexity를 분석해보면 먼저 add에서는 벡터의 length에 해당하는 n번만큼 for문안에 있는 연산을 수행하므로 O(n)으로 볼 수 있다. mul 또한 for문 안에서 곱셈 n번 덧셈 n번 수행하므로 2n으로 big O notation은 동일하게 O(n)으로 볼 수 있다. 실제로 그래프가 일차함수 꼴로 나타나는 것을 확인할 수 있다.\n",
    "반면 numpy의 time complexity를 분석해보면 add와 mul이 모두 n이 증가함에 따라 일정한 것을 볼 수 있다. 이는 상수함수 즉 O(1)임을 알 수 있다. 실제로 numpy는 병렬적으로 계산을 진행하기 때문에 n이 500이하일 때 까지 시간 값이 튀는 곳을 제외하고 일정한 것을 확인할 수 있다. \n",
    "혹시 그래프가 양자화된 것처럼 나오신다면 조교님 컴퓨터나 콜랩에서 한번 실행해주시면 감사하겠습니다!"
   ]
  },
  {
   "cell_type": "markdown",
   "metadata": {},
   "source": [
    "-------------------------------"
   ]
  },
  {
   "cell_type": "markdown",
   "metadata": {},
   "source": [
    "### PROBLEM IV (15 POINTS)"
   ]
  },
  {
   "cell_type": "markdown",
   "metadata": {},
   "source": [
    "```Matrix``` class의 object 간 연산과 numpy matrix 간 연산을 비교하는 실험을 설계하시오.\n",
    "\n",
    "### Conditions\n",
    "\n",
    "1. __PROBLEM I__에서 ```Matrix``` object 간 덧셈, 곱셈을 구현하였다. 각 연산의 time complexity를 big $\\mathcal{O}$ notation을 이용하여 분석하시오.\n",
    "2. ```Matrix``` object 간 덧셈, 곱셈의 time complexity와 numpy matrix 간 덧셈, 곱셈의 time complexity를 비교하는 실험을 설계하시오.\n",
    "3. __1__에서 분석한 결과와 __2__의 실험 결과를 비교하시오.\n",
    "\n",
    "\n",
    "### Note\n",
    "* __PROBLEM I__에서 ```Matrix``` class를 구현하지 못한 경우, 아래의 함수를 정의하여 사용하는 것은 허용한다. **단, 이 경우에도 numpy를 비롯한 외부 라이브러리는 사용하지 않는다. (_사용 시 해당 문항 0점_)**"
   ]
  },
  {
   "cell_type": "markdown",
   "metadata": {},
   "source": [
    "### Parameters for figure (optional)\n",
    "\n",
    "```\n",
    "iterations for our matrix class multiplication: 100\n",
    "iterations for others: 1000\n",
    "\n",
    "plt.figure(figsize=(20, 15))\n",
    "\n",
    "plt.xlabel('$n$', fontsize=20)\n",
    "plt.ylabel('elapsed time', fontsize=20)\n",
    "plt.legend(['matrix sum. (ours)', 'matrix mul. (ours)', 'matrix sum. (numpy)', 'matrix mul. (numpy)'], loc='best', fontsize=15)\n",
    "```"
   ]
  },
  {
   "cell_type": "code",
   "execution_count": null,
   "metadata": {},
   "outputs": [],
   "source": [
    "# # If you fail to implement the Matrix class, you can define the operations for the experiments.\n",
    "# # But, libraries like numpy are not allowed (use python list).\n",
    "\n",
    "# def matrix_summation(matrix1, matrix2):\n",
    "#     ### CODE HERE ###\n",
    "    \n",
    "#     #################\n",
    "\n",
    "# def matrix_multiplication(matrix1, matrix2):\n",
    "#     ### CODE HERE ###\n",
    "    \n",
    "#     #################"
   ]
  },
  {
   "cell_type": "code",
   "execution_count": 52,
   "metadata": {
    "scrolled": false
   },
   "outputs": [
    {
     "data": {
      "text/plain": [
       "<matplotlib.legend.Legend at 0x25bcc15db50>"
      ]
     },
     "execution_count": 52,
     "metadata": {},
     "output_type": "execute_result"
    },
    {
     "data": {
      "image/png": "[encoded data removed]",
      "text/plain": [
       "<Figure size 1440x1080 with 1 Axes>"
      ]
     },
     "metadata": {
      "needs_background": "light"
     },
     "output_type": "display_data"
    }
   ],
   "source": [
    "import time\n",
    "import numpy as np\n",
    "import matplotlib.pyplot as plt\n",
    "import random\n",
    "\n",
    "## time spent in each computation \"Y-axis\"\n",
    "mat_sum_ours = []\n",
    "mat_mul_ours = []\n",
    "mat_sum_np = []\n",
    "mat_mul_np = []\n",
    "\n",
    "## Matrix multiplication of ours, iterations : 100\n",
    "for n in range(100) :\n",
    "    example = []\n",
    "    for num1 in range(n+1) :\n",
    "        temp = []\n",
    "        for num2 in range(n+1) :\n",
    "            temp.append(random.uniform(-100, 100))\n",
    "        example.append(temp)\n",
    "    ## Matrix used in multiplication\n",
    "    a = Matrix(example)\n",
    "    b = Matrix(example)\n",
    "    ## Matrix multiplication of ours\n",
    "    start2 = time.time()\n",
    "    ans2 = a * b\n",
    "    t2 = time.time() - start2\n",
    "    mat_mul_ours.append(t2)\n",
    "\n",
    "## Matrix multiplication of numpy, iterations : 500\n",
    "for n in range(500) :\n",
    "    example = []\n",
    "    for num1 in range(n+1) :\n",
    "        temp = []\n",
    "        for num2 in range(n+1) :\n",
    "            temp.append(random.uniform(-100, 100))\n",
    "        example.append(temp)\n",
    "    ## Matrix used in multiplication\n",
    "    c = np.array(example)\n",
    "    d = np.array(example)\n",
    "    ## Matrix multiplication of numpy\n",
    "    start4 = time.time()\n",
    "    ans4 = np.dot(c,d)\n",
    "    t4 = time.time() - start4\n",
    "    mat_mul_np.append(t4)\n",
    "    \n",
    "## Matrix addition of ours and numpy, iterations : 1000\n",
    "for n in range(1000) :\n",
    "    example = []\n",
    "    for num1 in range(n+1) :\n",
    "        temp = []\n",
    "        for num2 in range(n+1) :\n",
    "            temp.append(random.uniform(-100, 100))\n",
    "        example.append(temp)\n",
    "    ## Matrix used in addition\n",
    "    a = Matrix(example)\n",
    "    b = Matrix(example)\n",
    "    c = np.array(example)\n",
    "    d = np.array(example)\n",
    "    ## Matrix addition of ours\n",
    "    start1 = time.time()\n",
    "    ans1 = a + b\n",
    "    t1 = time.time() - start1\n",
    "    mat_sum_ours.append(t1)\n",
    "    ## Matrix addition of numpy\n",
    "    start3 = time.time()\n",
    "    ans3 = c + d\n",
    "    t3 = time.time() - start3\n",
    "    mat_sum_np.append(t3)\n",
    "\n",
    "## n \"X-axis\"\n",
    "x_axis_1 = [num+1 for num in range(100)]\n",
    "x_axis_2 = [num+1 for num in range(500)]\n",
    "x_axis_3 = [num+1 for num in range(1000)]\n",
    "\n",
    "## Plot using given parameters for figure\n",
    "plt.figure(figsize=(20, 15))\n",
    "plt.plot(x_axis_3,mat_sum_ours)\n",
    "plt.plot(x_axis_1,mat_mul_ours)\n",
    "plt.plot(x_axis_3,mat_sum_np)\n",
    "plt.plot(x_axis_2,mat_mul_np)\n",
    "plt.xlabel('$n$', fontsize=20)\n",
    "plt.ylabel('elapsed time', fontsize=20)\n",
    "plt.legend(['matrix sum. (ours)', 'matrix mul. (ours)', 'matrix sum. (numpy)', 'matrix mul. (numpy)'], loc='best', fontsize=15)\n",
    "#################\n",
    "#################"
   ]
  },
  {
   "cell_type": "markdown",
   "metadata": {},
   "source": [
    "### Describe your answer: "
   ]
  },
  {
   "cell_type": "markdown",
   "metadata": {},
   "source": [
    "3번과 마찬가지로 동일한 방식으로 시간을 측정하였다. 각 요소를 랜덤으로 받는 행렬을 만들어준 뒤 각각의 연상시간을 측정해주었다. 이때 곱셈에 해당하는 mat_mul_ours와 mat_mul_np은 iteration을 각각 100, 500까지만 수행해주고 덧셈에 해당하는 mat_sum_ours, mat_sum_np는 1000까지 수행해주었다.\n",
    "먼저 우리가 구현한 행렬간의 덧셈은 덧셈 n번을 총 n번 수행해 n^2이 되어 big O notation이 O(n^2)이 되는 것을 알 수 있다.\n",
    "마찬가지로 우리가 구현한 행렬간의 곱셈 mat_mul_ours는 곱셈 n번 덧셈 n번 총 2n번을 n번 반복하게되어 2n^2 즉 big O notation이 O(n^2)임을 알 수 있다. \n",
    "그래프를 보면 알 수 있듯이 두 그래프 모두 이차함수의 꼴을 하고있는 것을 확인할 수 있다. 이때 행렬간의 곱셈할 때 n^2의 계수가 2이므로 더 좁은 포물선을 그려 더 가파르게 올라가는 것을 알 수 있다.\n",
    "다음 넘파이의 합은 다른 연산들과 비교했을 때 그래프의 변동이 잘 보이지 않아 numpy sum만 따로 진행한 결과 그래프의 형태가 동일하게 이차함수 꼴을 보이는 것을 확인하였다. 실제로 행렬간의 합에서 같은 위치에 있는 요소를 모두 더해줘야하기 때문에 요소의 개수에 해당하는 n 곱하기 n 만큼의 연산이 수행된다. 즉 big O notation이 동일하게 O(n^2)임을 알 수 있다.위에서 말했듯이 넘파이의 연산수행 속도는 병렬처리, C, C++의 수행속도와 python의 수행속도에서 오는 차이 때문에 차이가 엄청 크게 나와 확인하기가 매우 어려운 것이다."
   ]
  },
  {
   "cell_type": "markdown",
   "metadata": {},
   "source": [
    "-------------------------------"
   ]
  }
 ],
 "metadata": {
  "anaconda-cloud": {},
  "kernelspec": {
   "display_name": "Python 3",
   "language": "python",
   "name": "python3"
  },
  "language_info": {
   "codemirror_mode": {
    "name": "ipython",
    "version": 3
   },
   "file_extension": ".py",
   "mimetype": "text/x-python",
   "name": "python",
   "nbconvert_exporter": "python",
   "pygments_lexer": "ipython3",
   "version": "3.8.5"
  }
 },
 "nbformat": 4,
 "nbformat_minor": 1
}
